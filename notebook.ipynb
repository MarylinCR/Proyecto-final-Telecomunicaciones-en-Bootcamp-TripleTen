{
 "cells": [
  {
   "cell_type": "markdown",
   "metadata": {},
   "source": [
    "# PROYECTO FINAL ANALISIS PARA SERVICIO DE TELECOMUNICACIONES"
   ]
  },
  {
   "cell_type": "markdown",
   "metadata": {},
   "source": [
    "*****************************************"
   ]
  },
  {
   "cell_type": "markdown",
   "metadata": {},
   "source": [
    "# OBJETIVO:\n",
    "\n",
    "Identificación de operadores menos eficaces con el fin de que los supervisores tengan esta información y poder así tomar acciones para mejorar el servicio de telefonía."
   ]
  },
  {
   "cell_type": "markdown",
   "metadata": {},
   "source": [
    "# Enlace a PDF con la presentacion\n",
    "\n",
    "https://drive.google.com/file/d/1vInRJqwZAMxRASzCHN5QPyiUi1WO6S1I/view?usp=sharing\n"
   ]
  },
  {
   "cell_type": "markdown",
   "metadata": {},
   "source": [
    "# Enlace al Dashboard\n",
    "\n",
    "https://public.tableau.com/views/Dashboardproyectofinal_17589260153300/Histogramaparaladuraciondelasllamadas?:language=es-ES&publish=yes&:sid=&:redirect=auth&:display_count=n&:origin=viz_share_link\n"
   ]
  },
  {
   "cell_type": "markdown",
   "metadata": {},
   "source": [
    "# Cargar librerias y lectura de datos"
   ]
  },
  {
   "cell_type": "code",
   "execution_count": 107,
   "metadata": {},
   "outputs": [],
   "source": [
    "# Librerias\n",
    "import pandas as pd\n",
    "from matplotlib import pyplot as plt\n",
    "import numpy as np\n",
    "import seaborn as sns\n",
    "from scipy import stats\n",
    "import os"
   ]
  },
  {
   "cell_type": "code",
   "execution_count": 2,
   "metadata": {},
   "outputs": [],
   "source": [
    "# Lectura de datos\n",
    "datos = pd.read_csv('/datasets/telecom_dataset_us.csv')\n",
    "clientes = pd.read_csv('/datasets/telecom_clients_us.csv')"
   ]
  },
  {
   "cell_type": "code",
   "execution_count": 3,
   "metadata": {},
   "outputs": [
    {
     "name": "stdout",
     "output_type": "stream",
     "text": [
      "<class 'pandas.core.frame.DataFrame'>\n",
      "RangeIndex: 53902 entries, 0 to 53901\n",
      "Data columns (total 9 columns):\n",
      " #   Column               Non-Null Count  Dtype  \n",
      "---  ------               --------------  -----  \n",
      " 0   user_id              53902 non-null  int64  \n",
      " 1   date                 53902 non-null  object \n",
      " 2   direction            53902 non-null  object \n",
      " 3   internal             53785 non-null  object \n",
      " 4   operator_id          45730 non-null  float64\n",
      " 5   is_missed_call       53902 non-null  bool   \n",
      " 6   calls_count          53902 non-null  int64  \n",
      " 7   call_duration        53902 non-null  int64  \n",
      " 8   total_call_duration  53902 non-null  int64  \n",
      "dtypes: bool(1), float64(1), int64(4), object(3)\n",
      "memory usage: 3.3+ MB\n"
     ]
    }
   ],
   "source": [
    "# Visualizacion de los datos\n",
    "datos.info()"
   ]
  },
  {
   "cell_type": "code",
   "execution_count": 4,
   "metadata": {},
   "outputs": [
    {
     "name": "stdout",
     "output_type": "stream",
     "text": [
      "<class 'pandas.core.frame.DataFrame'>\n",
      "RangeIndex: 732 entries, 0 to 731\n",
      "Data columns (total 3 columns):\n",
      " #   Column       Non-Null Count  Dtype \n",
      "---  ------       --------------  ----- \n",
      " 0   user_id      732 non-null    int64 \n",
      " 1   tariff_plan  732 non-null    object\n",
      " 2   date_start   732 non-null    object\n",
      "dtypes: int64(1), object(2)\n",
      "memory usage: 17.3+ KB\n"
     ]
    }
   ],
   "source": [
    "clientes.info()"
   ]
  },
  {
   "cell_type": "code",
   "execution_count": 5,
   "metadata": {},
   "outputs": [
    {
     "data": {
      "text/html": [
       "<div>\n",
       "<style scoped>\n",
       "    .dataframe tbody tr th:only-of-type {\n",
       "        vertical-align: middle;\n",
       "    }\n",
       "\n",
       "    .dataframe tbody tr th {\n",
       "        vertical-align: top;\n",
       "    }\n",
       "\n",
       "    .dataframe thead th {\n",
       "        text-align: right;\n",
       "    }\n",
       "</style>\n",
       "<table border=\"1\" class=\"dataframe\">\n",
       "  <thead>\n",
       "    <tr style=\"text-align: right;\">\n",
       "      <th></th>\n",
       "      <th>user_id</th>\n",
       "      <th>date</th>\n",
       "      <th>direction</th>\n",
       "      <th>internal</th>\n",
       "      <th>operator_id</th>\n",
       "      <th>is_missed_call</th>\n",
       "      <th>calls_count</th>\n",
       "      <th>call_duration</th>\n",
       "      <th>total_call_duration</th>\n",
       "    </tr>\n",
       "  </thead>\n",
       "  <tbody>\n",
       "    <tr>\n",
       "      <th>0</th>\n",
       "      <td>166377</td>\n",
       "      <td>2019-08-04 00:00:00+03:00</td>\n",
       "      <td>in</td>\n",
       "      <td>False</td>\n",
       "      <td>NaN</td>\n",
       "      <td>True</td>\n",
       "      <td>2</td>\n",
       "      <td>0</td>\n",
       "      <td>4</td>\n",
       "    </tr>\n",
       "    <tr>\n",
       "      <th>1</th>\n",
       "      <td>166377</td>\n",
       "      <td>2019-08-05 00:00:00+03:00</td>\n",
       "      <td>out</td>\n",
       "      <td>True</td>\n",
       "      <td>880022.0</td>\n",
       "      <td>True</td>\n",
       "      <td>3</td>\n",
       "      <td>0</td>\n",
       "      <td>5</td>\n",
       "    </tr>\n",
       "    <tr>\n",
       "      <th>2</th>\n",
       "      <td>166377</td>\n",
       "      <td>2019-08-05 00:00:00+03:00</td>\n",
       "      <td>out</td>\n",
       "      <td>True</td>\n",
       "      <td>880020.0</td>\n",
       "      <td>True</td>\n",
       "      <td>1</td>\n",
       "      <td>0</td>\n",
       "      <td>1</td>\n",
       "    </tr>\n",
       "    <tr>\n",
       "      <th>3</th>\n",
       "      <td>166377</td>\n",
       "      <td>2019-08-05 00:00:00+03:00</td>\n",
       "      <td>out</td>\n",
       "      <td>True</td>\n",
       "      <td>880020.0</td>\n",
       "      <td>False</td>\n",
       "      <td>1</td>\n",
       "      <td>10</td>\n",
       "      <td>18</td>\n",
       "    </tr>\n",
       "    <tr>\n",
       "      <th>4</th>\n",
       "      <td>166377</td>\n",
       "      <td>2019-08-05 00:00:00+03:00</td>\n",
       "      <td>out</td>\n",
       "      <td>False</td>\n",
       "      <td>880022.0</td>\n",
       "      <td>True</td>\n",
       "      <td>3</td>\n",
       "      <td>0</td>\n",
       "      <td>25</td>\n",
       "    </tr>\n",
       "  </tbody>\n",
       "</table>\n",
       "</div>"
      ],
      "text/plain": [
       "   user_id                       date direction internal  operator_id  \\\n",
       "0   166377  2019-08-04 00:00:00+03:00        in    False          NaN   \n",
       "1   166377  2019-08-05 00:00:00+03:00       out     True     880022.0   \n",
       "2   166377  2019-08-05 00:00:00+03:00       out     True     880020.0   \n",
       "3   166377  2019-08-05 00:00:00+03:00       out     True     880020.0   \n",
       "4   166377  2019-08-05 00:00:00+03:00       out    False     880022.0   \n",
       "\n",
       "   is_missed_call  calls_count  call_duration  total_call_duration  \n",
       "0            True            2              0                    4  \n",
       "1            True            3              0                    5  \n",
       "2            True            1              0                    1  \n",
       "3           False            1             10                   18  \n",
       "4            True            3              0                   25  "
      ]
     },
     "execution_count": 5,
     "metadata": {},
     "output_type": "execute_result"
    }
   ],
   "source": [
    "datos.head()"
   ]
  },
  {
   "cell_type": "code",
   "execution_count": 6,
   "metadata": {},
   "outputs": [
    {
     "data": {
      "text/html": [
       "<div>\n",
       "<style scoped>\n",
       "    .dataframe tbody tr th:only-of-type {\n",
       "        vertical-align: middle;\n",
       "    }\n",
       "\n",
       "    .dataframe tbody tr th {\n",
       "        vertical-align: top;\n",
       "    }\n",
       "\n",
       "    .dataframe thead th {\n",
       "        text-align: right;\n",
       "    }\n",
       "</style>\n",
       "<table border=\"1\" class=\"dataframe\">\n",
       "  <thead>\n",
       "    <tr style=\"text-align: right;\">\n",
       "      <th></th>\n",
       "      <th>user_id</th>\n",
       "      <th>tariff_plan</th>\n",
       "      <th>date_start</th>\n",
       "    </tr>\n",
       "  </thead>\n",
       "  <tbody>\n",
       "    <tr>\n",
       "      <th>0</th>\n",
       "      <td>166713</td>\n",
       "      <td>A</td>\n",
       "      <td>2019-08-15</td>\n",
       "    </tr>\n",
       "    <tr>\n",
       "      <th>1</th>\n",
       "      <td>166901</td>\n",
       "      <td>A</td>\n",
       "      <td>2019-08-23</td>\n",
       "    </tr>\n",
       "    <tr>\n",
       "      <th>2</th>\n",
       "      <td>168527</td>\n",
       "      <td>A</td>\n",
       "      <td>2019-10-29</td>\n",
       "    </tr>\n",
       "    <tr>\n",
       "      <th>3</th>\n",
       "      <td>167097</td>\n",
       "      <td>A</td>\n",
       "      <td>2019-09-01</td>\n",
       "    </tr>\n",
       "    <tr>\n",
       "      <th>4</th>\n",
       "      <td>168193</td>\n",
       "      <td>A</td>\n",
       "      <td>2019-10-16</td>\n",
       "    </tr>\n",
       "  </tbody>\n",
       "</table>\n",
       "</div>"
      ],
      "text/plain": [
       "   user_id tariff_plan  date_start\n",
       "0   166713           A  2019-08-15\n",
       "1   166901           A  2019-08-23\n",
       "2   168527           A  2019-10-29\n",
       "3   167097           A  2019-09-01\n",
       "4   168193           A  2019-10-16"
      ]
     },
     "execution_count": 6,
     "metadata": {},
     "output_type": "execute_result"
    }
   ],
   "source": [
    "clientes.head()"
   ]
  },
  {
   "cell_type": "markdown",
   "metadata": {},
   "source": [
    "# Preprocesamiento de datos\n",
    "\n",
    "Se realizara una limpieza de los datos obtenidos de la base de datos, verificando que no tengan datos duplicados, valores ausentes y que todas las variables tengan el tipo de dato necesario para poder hacer el analisis sin tener ningun inconveniente y disminuyendo los errores causados por los valores ausentes y duplicados."
   ]
  },
  {
   "cell_type": "markdown",
   "metadata": {},
   "source": [
    "## Revisar filas duplicadas"
   ]
  },
  {
   "cell_type": "code",
   "execution_count": 7,
   "metadata": {},
   "outputs": [
    {
     "data": {
      "text/plain": [
       "4900"
      ]
     },
     "execution_count": 7,
     "metadata": {},
     "output_type": "execute_result"
    }
   ],
   "source": [
    "# Verificacion de filas duplicadas en datos\n",
    "datos.duplicated().sum()"
   ]
  },
  {
   "cell_type": "code",
   "execution_count": 8,
   "metadata": {},
   "outputs": [
    {
     "data": {
      "text/plain": [
       "0"
      ]
     },
     "execution_count": 8,
     "metadata": {},
     "output_type": "execute_result"
    }
   ],
   "source": [
    "# Verificacion de filas duplicadas en clientes\n",
    "clientes.duplicated().sum()"
   ]
  },
  {
   "cell_type": "code",
   "execution_count": 9,
   "metadata": {},
   "outputs": [],
   "source": [
    "# Eliminar las filas duplicadas en datos\n",
    "datos.drop_duplicates(inplace=True)"
   ]
  },
  {
   "cell_type": "code",
   "execution_count": 10,
   "metadata": {},
   "outputs": [
    {
     "name": "stdout",
     "output_type": "stream",
     "text": [
      "<class 'pandas.core.frame.DataFrame'>\n",
      "Int64Index: 49002 entries, 0 to 53901\n",
      "Data columns (total 9 columns):\n",
      " #   Column               Non-Null Count  Dtype  \n",
      "---  ------               --------------  -----  \n",
      " 0   user_id              49002 non-null  int64  \n",
      " 1   date                 49002 non-null  object \n",
      " 2   direction            49002 non-null  object \n",
      " 3   internal             48892 non-null  object \n",
      " 4   operator_id          41546 non-null  float64\n",
      " 5   is_missed_call       49002 non-null  bool   \n",
      " 6   calls_count          49002 non-null  int64  \n",
      " 7   call_duration        49002 non-null  int64  \n",
      " 8   total_call_duration  49002 non-null  int64  \n",
      "dtypes: bool(1), float64(1), int64(4), object(3)\n",
      "memory usage: 3.4+ MB\n"
     ]
    }
   ],
   "source": [
    "datos.info()"
   ]
  },
  {
   "cell_type": "markdown",
   "metadata": {},
   "source": [
    "## Revisar valores ausentes"
   ]
  },
  {
   "cell_type": "code",
   "execution_count": 11,
   "metadata": {},
   "outputs": [
    {
     "data": {
      "text/plain": [
       "user_id                   0\n",
       "date                      0\n",
       "direction                 0\n",
       "internal                110\n",
       "operator_id            7456\n",
       "is_missed_call            0\n",
       "calls_count               0\n",
       "call_duration             0\n",
       "total_call_duration       0\n",
       "dtype: int64"
      ]
     },
     "execution_count": 11,
     "metadata": {},
     "output_type": "execute_result"
    }
   ],
   "source": [
    "# Revision de los valores ausentes\n",
    "datos.isna().sum()"
   ]
  },
  {
   "cell_type": "code",
   "execution_count": 12,
   "metadata": {},
   "outputs": [
    {
     "name": "stdout",
     "output_type": "stream",
     "text": [
      "Porcentaje de valores ausentes en operator_id: 15.22 %\n",
      "\n",
      "Porcentaje de valores ausentes en internal: 0.22 %\n"
     ]
    }
   ],
   "source": [
    "print(\"Porcentaje de valores ausentes en operator_id: {:.2f}\".format((datos['operator_id'].isna().sum()/len(datos))*100),'%')\n",
    "print(\"\\nPorcentaje de valores ausentes en internal: {:.2f}\".format((datos['internal'].isna().sum()/len(datos))*100),'%')"
   ]
  },
  {
   "cell_type": "code",
   "execution_count": 13,
   "metadata": {},
   "outputs": [
    {
     "data": {
      "text/plain": [
       "user_id        0\n",
       "tariff_plan    0\n",
       "date_start     0\n",
       "dtype: int64"
      ]
     },
     "execution_count": 13,
     "metadata": {},
     "output_type": "execute_result"
    }
   ],
   "source": [
    "clientes.isna().sum()"
   ]
  },
  {
   "cell_type": "markdown",
   "metadata": {},
   "source": [
    "Se observan varios valores ausentes en la columna ***operator_id*** de la tabla ***datos***, hay un **15%** de valores ausentes, este es un porcentaje muy alto por lo que no es recomendable eliminaros, van a ser reemplazados por un identificador que indique que en esa parte el operador es desconocido, así se puede incluir en el análisis de los datos de una mejor manera sin perder parte de la información que puede ser importante para hallar a los operadores ineficientes.\n",
    "\n",
    "En la columna ***internal*** hay tambien algunos valores ausentes pero en este caso son una cantidad menor ***0.22%***, en este caso si se podrian eliminar estas filas ya que no se pierde tanta informacion y no tenemos en el momento la manera de saber si la llamada fue interna para rellenar estos valores."
   ]
  },
  {
   "cell_type": "code",
   "execution_count": 14,
   "metadata": {},
   "outputs": [],
   "source": [
    "# Eliminacion de filas con valores ausentes en la tabla datos columna 'internal'\n",
    "datos.dropna(subset=['internal'], inplace=True)"
   ]
  },
  {
   "cell_type": "code",
   "execution_count": 15,
   "metadata": {},
   "outputs": [],
   "source": [
    "# Reemplazar valores ausentes en la tabla datos columna 'operator_id'\n",
    "datos['operator_id'].fillna('unknown', inplace=True)"
   ]
  },
  {
   "cell_type": "code",
   "execution_count": 16,
   "metadata": {},
   "outputs": [
    {
     "data": {
      "text/plain": [
       "user_id                0\n",
       "date                   0\n",
       "direction              0\n",
       "internal               0\n",
       "operator_id            0\n",
       "is_missed_call         0\n",
       "calls_count            0\n",
       "call_duration          0\n",
       "total_call_duration    0\n",
       "dtype: int64"
      ]
     },
     "execution_count": 16,
     "metadata": {},
     "output_type": "execute_result"
    }
   ],
   "source": [
    "datos.isna().sum()"
   ]
  },
  {
   "cell_type": "markdown",
   "metadata": {},
   "source": [
    "## Revision y correccion de tipos de datos"
   ]
  },
  {
   "cell_type": "markdown",
   "metadata": {},
   "source": [
    "Cambiar el tipo de dato de ***user_id*** de **int** a **object**, ***internal*** de **object** a **bool**, ***operator_id*** de ***float*** a **str** quitando la parte decimal que tiene y ***date*** de **object** a **datetime** dejando solo la parte de la fecha (AAA-MM-DD)."
   ]
  },
  {
   "cell_type": "code",
   "execution_count": 17,
   "metadata": {},
   "outputs": [],
   "source": [
    "datos['user_id'] = datos['user_id'].astype(object)\n",
    "datos['internal'] = datos['internal'].astype(bool)\n",
    "datos['operator_id'] = datos['operator_id'].astype(str).str.replace('.0', '', regex=False) # quitar la parte decimal de la columna operator_id"
   ]
  },
  {
   "cell_type": "code",
   "execution_count": 18,
   "metadata": {},
   "outputs": [],
   "source": [
    "datos['date'] = pd.to_datetime(datos['date']).dt.date\n",
    "datos['date'] = pd.to_datetime(datos['date'])"
   ]
  },
  {
   "cell_type": "code",
   "execution_count": 19,
   "metadata": {},
   "outputs": [
    {
     "name": "stdout",
     "output_type": "stream",
     "text": [
      "2019-08-02 00:00:00\n",
      "2019-11-28 00:00:00\n"
     ]
    }
   ],
   "source": [
    "print(datos['date'].min())\n",
    "print(datos['date'].max())"
   ]
  },
  {
   "cell_type": "code",
   "execution_count": 20,
   "metadata": {},
   "outputs": [],
   "source": [
    "clientes['date_start'] = pd.to_datetime(clientes['date_start'])"
   ]
  },
  {
   "cell_type": "code",
   "execution_count": 21,
   "metadata": {},
   "outputs": [],
   "source": [
    "clientes.columns = ['user_id', 'tariff_plan', 'registration_date']"
   ]
  },
  {
   "cell_type": "code",
   "execution_count": 22,
   "metadata": {},
   "outputs": [
    {
     "name": "stdout",
     "output_type": "stream",
     "text": [
      "2019-08-01 00:00:00\n",
      "2019-10-31 00:00:00\n"
     ]
    }
   ],
   "source": [
    "print(clientes['registration_date'].min())\n",
    "print(clientes['registration_date'].max())"
   ]
  },
  {
   "cell_type": "markdown",
   "metadata": {},
   "source": [
    "Cambiar el tipo de dato de ***user_id*** de **int** a **object** y ***date_start*** de **object** a **datetime** a demas cambiar el nombre de esta columna a ***registration_date*** para que quede mas claro que informacion contiene esta columna."
   ]
  },
  {
   "cell_type": "code",
   "execution_count": 23,
   "metadata": {},
   "outputs": [],
   "source": [
    "clientes['user_id'] = clientes['user_id'].astype(object)"
   ]
  },
  {
   "cell_type": "markdown",
   "metadata": {},
   "source": [
    "# Analisis exploratorio de datos \n",
    "\n",
    "En esta parte se realizaran calculos estadisticos basicos para ver como se distribuyen los datos que tenemos y tener una mejor idea de como podemos abordar el analisis de las metricas necesarias para identificar los operadores ineficaces."
   ]
  },
  {
   "cell_type": "markdown",
   "metadata": {},
   "source": [
    "## Calculos estadisticos basicos y viasualizaciones graficas de las variables."
   ]
  },
  {
   "cell_type": "code",
   "execution_count": 25,
   "metadata": {},
   "outputs": [],
   "source": [
    "# Crear una columna nueva con los datos del tiempo de espera de las llamadas\n",
    "datos['call_waiting_time'] = datos['total_call_duration'] - datos['call_duration']"
   ]
  },
  {
   "cell_type": "code",
   "execution_count": 26,
   "metadata": {},
   "outputs": [
    {
     "data": {
      "text/html": [
       "<div>\n",
       "<style scoped>\n",
       "    .dataframe tbody tr th:only-of-type {\n",
       "        vertical-align: middle;\n",
       "    }\n",
       "\n",
       "    .dataframe tbody tr th {\n",
       "        vertical-align: top;\n",
       "    }\n",
       "\n",
       "    .dataframe thead th {\n",
       "        text-align: right;\n",
       "    }\n",
       "</style>\n",
       "<table border=\"1\" class=\"dataframe\">\n",
       "  <thead>\n",
       "    <tr style=\"text-align: right;\">\n",
       "      <th></th>\n",
       "      <th>user_id</th>\n",
       "      <th>date</th>\n",
       "      <th>direction</th>\n",
       "      <th>internal</th>\n",
       "      <th>operator_id</th>\n",
       "      <th>is_missed_call</th>\n",
       "      <th>calls_count</th>\n",
       "      <th>call_duration</th>\n",
       "      <th>total_call_duration</th>\n",
       "      <th>call_waiting_time</th>\n",
       "    </tr>\n",
       "  </thead>\n",
       "  <tbody>\n",
       "    <tr>\n",
       "      <th>0</th>\n",
       "      <td>166377</td>\n",
       "      <td>2019-08-04</td>\n",
       "      <td>in</td>\n",
       "      <td>False</td>\n",
       "      <td>unknown</td>\n",
       "      <td>True</td>\n",
       "      <td>2</td>\n",
       "      <td>0</td>\n",
       "      <td>4</td>\n",
       "      <td>4</td>\n",
       "    </tr>\n",
       "    <tr>\n",
       "      <th>1</th>\n",
       "      <td>166377</td>\n",
       "      <td>2019-08-05</td>\n",
       "      <td>out</td>\n",
       "      <td>True</td>\n",
       "      <td>880022</td>\n",
       "      <td>True</td>\n",
       "      <td>3</td>\n",
       "      <td>0</td>\n",
       "      <td>5</td>\n",
       "      <td>5</td>\n",
       "    </tr>\n",
       "    <tr>\n",
       "      <th>2</th>\n",
       "      <td>166377</td>\n",
       "      <td>2019-08-05</td>\n",
       "      <td>out</td>\n",
       "      <td>True</td>\n",
       "      <td>880020</td>\n",
       "      <td>True</td>\n",
       "      <td>1</td>\n",
       "      <td>0</td>\n",
       "      <td>1</td>\n",
       "      <td>1</td>\n",
       "    </tr>\n",
       "    <tr>\n",
       "      <th>3</th>\n",
       "      <td>166377</td>\n",
       "      <td>2019-08-05</td>\n",
       "      <td>out</td>\n",
       "      <td>True</td>\n",
       "      <td>880020</td>\n",
       "      <td>False</td>\n",
       "      <td>1</td>\n",
       "      <td>10</td>\n",
       "      <td>18</td>\n",
       "      <td>8</td>\n",
       "    </tr>\n",
       "    <tr>\n",
       "      <th>4</th>\n",
       "      <td>166377</td>\n",
       "      <td>2019-08-05</td>\n",
       "      <td>out</td>\n",
       "      <td>False</td>\n",
       "      <td>880022</td>\n",
       "      <td>True</td>\n",
       "      <td>3</td>\n",
       "      <td>0</td>\n",
       "      <td>25</td>\n",
       "      <td>25</td>\n",
       "    </tr>\n",
       "  </tbody>\n",
       "</table>\n",
       "</div>"
      ],
      "text/plain": [
       "  user_id       date direction  internal operator_id  is_missed_call  \\\n",
       "0  166377 2019-08-04        in     False     unknown            True   \n",
       "1  166377 2019-08-05       out      True      880022            True   \n",
       "2  166377 2019-08-05       out      True      880020            True   \n",
       "3  166377 2019-08-05       out      True      880020           False   \n",
       "4  166377 2019-08-05       out     False      880022            True   \n",
       "\n",
       "   calls_count  call_duration  total_call_duration  call_waiting_time  \n",
       "0            2              0                    4                  4  \n",
       "1            3              0                    5                  5  \n",
       "2            1              0                    1                  1  \n",
       "3            1             10                   18                  8  \n",
       "4            3              0                   25                 25  "
      ]
     },
     "execution_count": 26,
     "metadata": {},
     "output_type": "execute_result"
    }
   ],
   "source": [
    "datos.head()"
   ]
  },
  {
   "cell_type": "code",
   "execution_count": 27,
   "metadata": {},
   "outputs": [
    {
     "data": {
      "text/html": [
       "<div>\n",
       "<style scoped>\n",
       "    .dataframe tbody tr th:only-of-type {\n",
       "        vertical-align: middle;\n",
       "    }\n",
       "\n",
       "    .dataframe tbody tr th {\n",
       "        vertical-align: top;\n",
       "    }\n",
       "\n",
       "    .dataframe thead th {\n",
       "        text-align: right;\n",
       "    }\n",
       "</style>\n",
       "<table border=\"1\" class=\"dataframe\">\n",
       "  <thead>\n",
       "    <tr style=\"text-align: right;\">\n",
       "      <th></th>\n",
       "      <th>calls_count</th>\n",
       "      <th>call_duration</th>\n",
       "      <th>total_call_duration</th>\n",
       "      <th>call_waiting_time</th>\n",
       "    </tr>\n",
       "  </thead>\n",
       "  <tbody>\n",
       "    <tr>\n",
       "      <th>count</th>\n",
       "      <td>48892.000000</td>\n",
       "      <td>48892.000000</td>\n",
       "      <td>48892.000000</td>\n",
       "      <td>48892.000000</td>\n",
       "    </tr>\n",
       "    <tr>\n",
       "      <th>mean</th>\n",
       "      <td>16.495214</td>\n",
       "      <td>868.088788</td>\n",
       "      <td>1158.976458</td>\n",
       "      <td>290.887671</td>\n",
       "    </tr>\n",
       "    <tr>\n",
       "      <th>std</th>\n",
       "      <td>63.671633</td>\n",
       "      <td>3779.549967</td>\n",
       "      <td>4456.180933</td>\n",
       "      <td>1133.354018</td>\n",
       "    </tr>\n",
       "    <tr>\n",
       "      <th>min</th>\n",
       "      <td>1.000000</td>\n",
       "      <td>0.000000</td>\n",
       "      <td>0.000000</td>\n",
       "      <td>0.000000</td>\n",
       "    </tr>\n",
       "    <tr>\n",
       "      <th>25%</th>\n",
       "      <td>1.000000</td>\n",
       "      <td>0.000000</td>\n",
       "      <td>46.000000</td>\n",
       "      <td>17.000000</td>\n",
       "    </tr>\n",
       "    <tr>\n",
       "      <th>50%</th>\n",
       "      <td>4.000000</td>\n",
       "      <td>37.000000</td>\n",
       "      <td>210.000000</td>\n",
       "      <td>55.000000</td>\n",
       "    </tr>\n",
       "    <tr>\n",
       "      <th>75%</th>\n",
       "      <td>12.000000</td>\n",
       "      <td>573.000000</td>\n",
       "      <td>902.000000</td>\n",
       "      <td>200.000000</td>\n",
       "    </tr>\n",
       "    <tr>\n",
       "      <th>max</th>\n",
       "      <td>4817.000000</td>\n",
       "      <td>144395.000000</td>\n",
       "      <td>166155.000000</td>\n",
       "      <td>46474.000000</td>\n",
       "    </tr>\n",
       "  </tbody>\n",
       "</table>\n",
       "</div>"
      ],
      "text/plain": [
       "        calls_count  call_duration  total_call_duration  call_waiting_time\n",
       "count  48892.000000   48892.000000         48892.000000       48892.000000\n",
       "mean      16.495214     868.088788          1158.976458         290.887671\n",
       "std       63.671633    3779.549967          4456.180933        1133.354018\n",
       "min        1.000000       0.000000             0.000000           0.000000\n",
       "25%        1.000000       0.000000            46.000000          17.000000\n",
       "50%        4.000000      37.000000           210.000000          55.000000\n",
       "75%       12.000000     573.000000           902.000000         200.000000\n",
       "max     4817.000000  144395.000000        166155.000000       46474.000000"
      ]
     },
     "execution_count": 27,
     "metadata": {},
     "output_type": "execute_result"
    }
   ],
   "source": [
    "# Calculos estadisticos basicos para las columnas con valores numericos\n",
    "datos.describe()"
   ]
  },
  {
   "cell_type": "code",
   "execution_count": 28,
   "metadata": {},
   "outputs": [
    {
     "data": {
      "image/png": "[encoded data removed]",
      "text/plain": [
       "<Figure size 1000x500 with 1 Axes>"
      ]
     },
     "metadata": {},
     "output_type": "display_data"
    }
   ],
   "source": [
    "# Histograma para ver la distribucion del numero de llamadas\n",
    "intervalos_1 = list(range(0, 1000, 50))\n",
    "plt.figure(figsize=(10, 5))\n",
    "sns.histplot(datos['calls_count'], bins=intervalos_1, kde=True) \n",
    "plt.title('Distribucion del numero de llamadas')\n",
    "plt.xlim([0, 1000])\n",
    "plt.ylim([0, 50000])\n",
    "plt.xticks(range(0, 1000, 50), rotation=45)\n",
    "plt.show()"
   ]
  },
  {
   "cell_type": "code",
   "execution_count": 29,
   "metadata": {},
   "outputs": [
    {
     "data": {
      "image/png": "[encoded data removed]",
      "text/plain": [
       "<Figure size 1000x500 with 1 Axes>"
      ]
     },
     "metadata": {},
     "output_type": "display_data"
    }
   ],
   "source": [
    "# Histograma para ver la distribucion de la ducracion de las llamadas\n",
    "intervalos_2 = list(range(0, 2000, 50))\n",
    "plt.figure(figsize=(10, 5))\n",
    "sns.histplot(datos['call_duration'], bins=intervalos_2)\n",
    "plt.title('Distribucion de la duracion de las llamadas')\n",
    "plt.xlim([0, 2000])\n",
    "plt.xticks(range(0, 2000, 50), rotation=45)\n",
    "plt.show()"
   ]
  },
  {
   "cell_type": "code",
   "execution_count": 30,
   "metadata": {},
   "outputs": [
    {
     "data": {
      "image/png": "[encoded data removed]",
      "text/plain": [
       "<Figure size 1000x500 with 1 Axes>"
      ]
     },
     "metadata": {},
     "output_type": "display_data"
    }
   ],
   "source": [
    "# Histograma para ver la distribucion de la duracion total de las llamadas\n",
    "plt.figure(figsize=(10, 5))\n",
    "sns.histplot(datos['total_call_duration'], bins=intervalos_2) \n",
    "plt.title('Distribucion de la duracion total de las llamadas')\n",
    "plt.xlim([0, 2000])\n",
    "plt.xticks(range(0, 2000, 50), rotation=45)\n",
    "plt.show()"
   ]
  },
  {
   "cell_type": "code",
   "execution_count": 31,
   "metadata": {},
   "outputs": [
    {
     "data": {
      "image/png": "[encoded data removed]",
      "text/plain": [
       "<Figure size 1000x500 with 1 Axes>"
      ]
     },
     "metadata": {},
     "output_type": "display_data"
    }
   ],
   "source": [
    "# Histograma para ver la distribucion del tiempo de espera de las llamadas\n",
    "plt.figure(figsize=(10, 5))\n",
    "sns.histplot(datos['call_waiting_time'], bins=intervalos_2) \n",
    "plt.title('Distribucion del tiempo de espera')\n",
    "plt.xlim([0, 2000])\n",
    "plt.xticks(range(0, 2000, 50), rotation=45)\n",
    "plt.show()"
   ]
  },
  {
   "cell_type": "code",
   "execution_count": 32,
   "metadata": {},
   "outputs": [
    {
     "data": {
      "image/png": "[encoded data removed]",
      "text/plain": [
       "<Figure size 500x500 with 1 Axes>"
      ]
     },
     "metadata": {},
     "output_type": "display_data"
    }
   ],
   "source": [
    "# Diagrama circular para ver la distribucion de llamadas entrantes y salientes\n",
    "plt.figure(figsize=(5, 5)) \n",
    "datos['direction'].value_counts().plot.pie(autopct='%1.1f%%', startangle=90)\n",
    "plt.title('Distribucion de llamadas entrantes y salientes')\n",
    "plt.ylabel('') # Elimina la etiqueta del eje Y \n",
    "plt.show()"
   ]
  },
  {
   "cell_type": "code",
   "execution_count": 33,
   "metadata": {},
   "outputs": [
    {
     "data": {
      "image/png": "[encoded data removed]",
      "text/plain": [
       "<Figure size 500x500 with 1 Axes>"
      ]
     },
     "metadata": {},
     "output_type": "display_data"
    }
   ],
   "source": [
    "# Diagrama circular para ver la distribucion entre llamadas internas(True) y externas(False)\n",
    "plt.figure(figsize=(5, 5)) \n",
    "datos['internal'].value_counts().plot.pie(autopct='%1.1f%%', startangle=90)\n",
    "plt.title('Distribución entre llamadas internas (True) y externas (False)')\n",
    "plt.ylabel('') # Elimina la etiqueta del eje Y \n",
    "plt.show()"
   ]
  },
  {
   "cell_type": "code",
   "execution_count": 34,
   "metadata": {},
   "outputs": [
    {
     "data": {
      "image/png": "[encoded data removed]",
      "text/plain": [
       "<Figure size 500x500 with 1 Axes>"
      ]
     },
     "metadata": {},
     "output_type": "display_data"
    }
   ],
   "source": [
    "# Diagrama circular para ver la distribucion entre llamadas perdidas(True) y llamadas no perdidas(False)\n",
    "plt.figure(figsize=(5, 5)) \n",
    "datos['is_missed_call'].value_counts().plot.pie(autopct='%1.1f%%', startangle=90)\n",
    "plt.title('Distribución entre llamadas perdidas \\n(True) y llamadas no perdidas (False)')\n",
    "plt.ylabel('') # Elimina la etiqueta del eje Y \n",
    "plt.show()"
   ]
  },
  {
   "cell_type": "markdown",
   "metadata": {},
   "source": [
    "**********************************************\n",
    "En las gráficas se pueden ver las distribuciones de las variables principales que identifican si un operador es eficaz o ineficaz, en ***número de llamadas***, ***duración de las llamadas***, ***duración total de las llamadas*** y ***tiempo de espera de las llamadas***, se observa que tienen una distribución asimétrica positiva con un sesgo hacia la derecha, lo que significa que la mayoría de los datos están alrededor de cero o valores bajos y se tienen algunos valores atípicos muy altos que podrían ser causados por los operadores ineficaces.\n",
    "\n",
    "También podemos observamos que hay una ***mayor cantidad*** de ***llamadas salientes*** a comparación de las ***llamadas entrantes***, lo que podría indicar que hay más clientes que necesitan realizar llamadas ya sea para ventas, ofrecer ofertas, cobranzas etc. a sus posibles usuarios, y menos clientes con necesidad de atención al usuario por medio de llamadas entrantes. También en algunas ocasiones los operadores devuelven las llamadas para dar alguna solución al usuario que llamó o continuar con la atención por medio de la llamada ya sea que quedo algo pendiente o se cortó la llamada en medio de la atención.\n",
    "\n",
    "Para las ***llamadas internas*** o ***externas*** tenemos que ***la mayoría*** de las llamadas son ***externas***, lo que es normal ya que las llamadas internas normalmente se usan para resolver algunas dudas entre los operadores y supervisores o entes administrativos y ejecutivos dentro de la misma empresa, y las llamadas externas son las que se hacen para la atención de los usuarios de los clientes que es uno de los objetivos principales del call center.\n",
    "\n",
    "En las ***llamadas perdidas*** se observa un alto número de llamadas perdidas con un ***43.8 %*** de llamadas perdidas en total, este es un porcentaje muy alto de llamadas perdidas para el call center, ya que indica que los operadores están siendo ineficaces al contestar las llamadas o que hay algún problema de insuficiencia de operadores, donde entran demasiadas llamadas para el número de operadores que están contestando."
   ]
  },
  {
   "cell_type": "markdown",
   "metadata": {},
   "source": [
    "# Identificacion de operadores ineficaces.\n",
    "\n",
    "En esta parte del análisis se realizará el cálculo de las métricas necesarias para identificar a los operadores ineficaces, se calculará el número de llamadas por operador, número de llamadas entrantes para cada operador, número de llamadas entrantes pérdidas para cada operador, tiempo de espera por operador para las llamadas entrantes y el número de llamadas salientes por operador.\n",
    "\n",
    "A demás se creará un DataFrame nuevo con los operadores y cada una de estas métricas para poder hacer el análisis e identificar los operadores ineficaces y los eficaces, para esto se va a tener en cuenta que los operadores ineficaces se identifican por tener una alta cantidad de llamadas perdidas, un alto tiempo de espera y muy pocas llamadas salientes.\n",
    "\n",
    "Para identificar a los operadores ineficientes se usarán los percentiles como un umbral especificado en los que un operador empezaría a ser ineficaz, los operadores se filtraran según este umbral y se separaran en dos grupos operadores eficaces y operadores ineficaces."
   ]
  },
  {
   "cell_type": "code",
   "execution_count": 35,
   "metadata": {},
   "outputs": [],
   "source": [
    "# Pasar las columnas de tiempo de llamada a minutos\n",
    "datos['call_duration'] = datos['call_duration'] / 60\n",
    "datos['total_call_duration'] = datos['total_call_duration'] / 60\n",
    "datos['call_waiting_time'] = datos['call_waiting_time'] / 60"
   ]
  },
  {
   "cell_type": "code",
   "execution_count": 36,
   "metadata": {},
   "outputs": [],
   "source": [
    "# Redondear a 3 cifras de decimales\n",
    "datos = datos.round(4)"
   ]
  },
  {
   "cell_type": "markdown",
   "metadata": {},
   "source": [
    "## Numero de llamadas por operador"
   ]
  },
  {
   "cell_type": "code",
   "execution_count": 37,
   "metadata": {},
   "outputs": [
    {
     "data": {
      "text/html": [
       "<div>\n",
       "<style scoped>\n",
       "    .dataframe tbody tr th:only-of-type {\n",
       "        vertical-align: middle;\n",
       "    }\n",
       "\n",
       "    .dataframe tbody tr th {\n",
       "        vertical-align: top;\n",
       "    }\n",
       "\n",
       "    .dataframe thead th {\n",
       "        text-align: right;\n",
       "    }\n",
       "</style>\n",
       "<table border=\"1\" class=\"dataframe\">\n",
       "  <thead>\n",
       "    <tr style=\"text-align: right;\">\n",
       "      <th></th>\n",
       "      <th>operator_id</th>\n",
       "      <th>calls_count</th>\n",
       "    </tr>\n",
       "  </thead>\n",
       "  <tbody>\n",
       "    <tr>\n",
       "      <th>1092</th>\n",
       "      <td>unknown</td>\n",
       "      <td>104399</td>\n",
       "    </tr>\n",
       "    <tr>\n",
       "      <th>29</th>\n",
       "      <td>885890</td>\n",
       "      <td>60221</td>\n",
       "    </tr>\n",
       "    <tr>\n",
       "      <th>28</th>\n",
       "      <td>885876</td>\n",
       "      <td>59429</td>\n",
       "    </tr>\n",
       "    <tr>\n",
       "      <th>583</th>\n",
       "      <td>929428</td>\n",
       "      <td>23754</td>\n",
       "    </tr>\n",
       "    <tr>\n",
       "      <th>551</th>\n",
       "      <td>925922</td>\n",
       "      <td>20021</td>\n",
       "    </tr>\n",
       "  </tbody>\n",
       "</table>\n",
       "</div>"
      ],
      "text/plain": [
       "     operator_id  calls_count\n",
       "1092     unknown       104399\n",
       "29        885890        60221\n",
       "28        885876        59429\n",
       "583       929428        23754\n",
       "551       925922        20021"
      ]
     },
     "execution_count": 37,
     "metadata": {},
     "output_type": "execute_result"
    }
   ],
   "source": [
    "# Total de llamadas por operador\n",
    "total_llam_oper = datos.groupby('operator_id')['calls_count'].sum().reset_index().sort_values(by='calls_count', ascending=False)\n",
    "total_llam_oper.head()"
   ]
  },
  {
   "cell_type": "code",
   "execution_count": 38,
   "metadata": {},
   "outputs": [
    {
     "data": {
      "image/png": "[encoded data removed]",
      "text/plain": [
       "<Figure size 500x300 with 1 Axes>"
      ]
     },
     "metadata": {},
     "output_type": "display_data"
    }
   ],
   "source": [
    "# Grafico de barras con el numero de llamadas en cada mes\n",
    "plt.figure(figsize=(5, 3))\n",
    "datos.groupby(datos['date'].dt.month)['calls_count'].sum().plot(kind='bar')\n",
    "plt.title('Numero de llamadas por mes')\n",
    "plt.xlabel('Mes')\n",
    "plt.ylabel('Lamadas')\n",
    "plt.show()"
   ]
  },
  {
   "cell_type": "markdown",
   "metadata": {},
   "source": [
    "## Numero de llamadas entrantes por operador"
   ]
  },
  {
   "cell_type": "code",
   "execution_count": 39,
   "metadata": {},
   "outputs": [],
   "source": [
    "# Df con solo las llamadas entrantes\n",
    "llamadas_in = datos[datos['direction'] == 'in']"
   ]
  },
  {
   "cell_type": "code",
   "execution_count": 40,
   "metadata": {},
   "outputs": [
    {
     "data": {
      "text/html": [
       "<div>\n",
       "<style scoped>\n",
       "    .dataframe tbody tr th:only-of-type {\n",
       "        vertical-align: middle;\n",
       "    }\n",
       "\n",
       "    .dataframe tbody tr th {\n",
       "        vertical-align: top;\n",
       "    }\n",
       "\n",
       "    .dataframe thead th {\n",
       "        text-align: right;\n",
       "    }\n",
       "</style>\n",
       "<table border=\"1\" class=\"dataframe\">\n",
       "  <thead>\n",
       "    <tr style=\"text-align: right;\">\n",
       "      <th></th>\n",
       "      <th>operator_id</th>\n",
       "      <th>count_in_calls</th>\n",
       "    </tr>\n",
       "  </thead>\n",
       "  <tbody>\n",
       "    <tr>\n",
       "      <th>754</th>\n",
       "      <td>unknown</td>\n",
       "      <td>103884</td>\n",
       "    </tr>\n",
       "    <tr>\n",
       "      <th>288</th>\n",
       "      <td>913938</td>\n",
       "      <td>4766</td>\n",
       "    </tr>\n",
       "    <tr>\n",
       "      <th>674</th>\n",
       "      <td>952948</td>\n",
       "      <td>3540</td>\n",
       "    </tr>\n",
       "    <tr>\n",
       "      <th>289</th>\n",
       "      <td>913942</td>\n",
       "      <td>2467</td>\n",
       "    </tr>\n",
       "    <tr>\n",
       "      <th>76</th>\n",
       "      <td>893804</td>\n",
       "      <td>2433</td>\n",
       "    </tr>\n",
       "  </tbody>\n",
       "</table>\n",
       "</div>"
      ],
      "text/plain": [
       "    operator_id  count_in_calls\n",
       "754     unknown          103884\n",
       "288      913938            4766\n",
       "674      952948            3540\n",
       "289      913942            2467\n",
       "76       893804            2433"
      ]
     },
     "execution_count": 40,
     "metadata": {},
     "output_type": "execute_result"
    }
   ],
   "source": [
    "# Numero de llamadas entrantes por operador\n",
    "num_llam_entr = llamadas_in.groupby('operator_id')['calls_count'].sum().reset_index(name='count_in_calls').sort_values(by='count_in_calls', ascending=False)\n",
    "num_llam_entr.head()"
   ]
  },
  {
   "cell_type": "code",
   "execution_count": 41,
   "metadata": {},
   "outputs": [
    {
     "data": {
      "text/html": [
       "<div>\n",
       "<style scoped>\n",
       "    .dataframe tbody tr th:only-of-type {\n",
       "        vertical-align: middle;\n",
       "    }\n",
       "\n",
       "    .dataframe tbody tr th {\n",
       "        vertical-align: top;\n",
       "    }\n",
       "\n",
       "    .dataframe thead th {\n",
       "        text-align: right;\n",
       "    }\n",
       "</style>\n",
       "<table border=\"1\" class=\"dataframe\">\n",
       "  <thead>\n",
       "    <tr style=\"text-align: right;\">\n",
       "      <th></th>\n",
       "      <th>operator_id</th>\n",
       "      <th>mean_in_calls</th>\n",
       "    </tr>\n",
       "  </thead>\n",
       "  <tbody>\n",
       "    <tr>\n",
       "      <th>674</th>\n",
       "      <td>952948</td>\n",
       "      <td>110.625000</td>\n",
       "    </tr>\n",
       "    <tr>\n",
       "      <th>328</th>\n",
       "      <td>919204</td>\n",
       "      <td>77.666667</td>\n",
       "    </tr>\n",
       "    <tr>\n",
       "      <th>326</th>\n",
       "      <td>919166</td>\n",
       "      <td>70.928571</td>\n",
       "    </tr>\n",
       "    <tr>\n",
       "      <th>288</th>\n",
       "      <td>913938</td>\n",
       "      <td>61.896104</td>\n",
       "    </tr>\n",
       "    <tr>\n",
       "      <th>325</th>\n",
       "      <td>919164</td>\n",
       "      <td>53.833333</td>\n",
       "    </tr>\n",
       "  </tbody>\n",
       "</table>\n",
       "</div>"
      ],
      "text/plain": [
       "    operator_id  mean_in_calls\n",
       "674      952948     110.625000\n",
       "328      919204      77.666667\n",
       "326      919166      70.928571\n",
       "288      913938      61.896104\n",
       "325      919164      53.833333"
      ]
     },
     "execution_count": 41,
     "metadata": {},
     "output_type": "execute_result"
    }
   ],
   "source": [
    "# Promedio de llamadas entrantes por operador\n",
    "prom_llam_entr = llamadas_in.groupby('operator_id')['calls_count'].mean().reset_index(name='mean_in_calls').sort_values(by='mean_in_calls', ascending=False)\n",
    "prom_llam_entr.head()"
   ]
  },
  {
   "cell_type": "code",
   "execution_count": 42,
   "metadata": {},
   "outputs": [
    {
     "data": {
      "image/png": "[encoded data removed]",
      "text/plain": [
       "<Figure size 500x300 with 1 Axes>"
      ]
     },
     "metadata": {},
     "output_type": "display_data"
    }
   ],
   "source": [
    "# Grafico de barras con el numero de llamadas entrantes en cada mes\n",
    "plt.figure(figsize=(5, 3))\n",
    "llamadas_in.groupby(llamadas_in['date'].dt.month)['calls_count'].sum().plot(kind='bar')\n",
    "plt.title('Numero de llamadas entrantes por mes')\n",
    "plt.xlabel('Mes')\n",
    "plt.ylabel('Lamadas entrantes')\n",
    "plt.show()"
   ]
  },
  {
   "cell_type": "markdown",
   "metadata": {},
   "source": [
    "## Numero de llamadas perdidas por operador"
   ]
  },
  {
   "cell_type": "code",
   "execution_count": 43,
   "metadata": {},
   "outputs": [
    {
     "data": {
      "text/html": [
       "<div>\n",
       "<style scoped>\n",
       "    .dataframe tbody tr th:only-of-type {\n",
       "        vertical-align: middle;\n",
       "    }\n",
       "\n",
       "    .dataframe tbody tr th {\n",
       "        vertical-align: top;\n",
       "    }\n",
       "\n",
       "    .dataframe thead th {\n",
       "        text-align: right;\n",
       "    }\n",
       "</style>\n",
       "<table border=\"1\" class=\"dataframe\">\n",
       "  <thead>\n",
       "    <tr style=\"text-align: right;\">\n",
       "      <th></th>\n",
       "      <th>operator_id</th>\n",
       "      <th>count_missed_calls</th>\n",
       "    </tr>\n",
       "  </thead>\n",
       "  <tbody>\n",
       "    <tr>\n",
       "      <th>754</th>\n",
       "      <td>unknown</td>\n",
       "      <td>7149</td>\n",
       "    </tr>\n",
       "    <tr>\n",
       "      <th>289</th>\n",
       "      <td>913942</td>\n",
       "      <td>28</td>\n",
       "    </tr>\n",
       "    <tr>\n",
       "      <th>22</th>\n",
       "      <td>885890</td>\n",
       "      <td>21</td>\n",
       "    </tr>\n",
       "    <tr>\n",
       "      <th>21</th>\n",
       "      <td>885876</td>\n",
       "      <td>17</td>\n",
       "    </tr>\n",
       "    <tr>\n",
       "      <th>594</th>\n",
       "      <td>944216</td>\n",
       "      <td>16</td>\n",
       "    </tr>\n",
       "  </tbody>\n",
       "</table>\n",
       "</div>"
      ],
      "text/plain": [
       "    operator_id  count_missed_calls\n",
       "754     unknown                7149\n",
       "289      913942                  28\n",
       "22       885890                  21\n",
       "21       885876                  17\n",
       "594      944216                  16"
      ]
     },
     "execution_count": 43,
     "metadata": {},
     "output_type": "execute_result"
    }
   ],
   "source": [
    "# Numero de llamadas entrantes perdidas por operador \n",
    "num_llam_perd = llamadas_in.groupby(['operator_id'])['is_missed_call'].sum().reset_index(name='count_missed_calls').sort_values(by='count_missed_calls', ascending=False)\n",
    "num_llam_perd.head()"
   ]
  },
  {
   "cell_type": "code",
   "execution_count": 44,
   "metadata": {},
   "outputs": [
    {
     "data": {
      "text/html": [
       "<div>\n",
       "<style scoped>\n",
       "    .dataframe tbody tr th:only-of-type {\n",
       "        vertical-align: middle;\n",
       "    }\n",
       "\n",
       "    .dataframe tbody tr th {\n",
       "        vertical-align: top;\n",
       "    }\n",
       "\n",
       "    .dataframe thead th {\n",
       "        text-align: right;\n",
       "    }\n",
       "</style>\n",
       "<table border=\"1\" class=\"dataframe\">\n",
       "  <thead>\n",
       "    <tr style=\"text-align: right;\">\n",
       "      <th></th>\n",
       "      <th>operator_id</th>\n",
       "      <th>date</th>\n",
       "      <th>daily_missed_calls</th>\n",
       "    </tr>\n",
       "  </thead>\n",
       "  <tbody>\n",
       "    <tr>\n",
       "      <th>11865</th>\n",
       "      <td>unknown</td>\n",
       "      <td>2019-10-28</td>\n",
       "      <td>121</td>\n",
       "    </tr>\n",
       "    <tr>\n",
       "      <th>11896</th>\n",
       "      <td>unknown</td>\n",
       "      <td>2019-11-28</td>\n",
       "      <td>120</td>\n",
       "    </tr>\n",
       "    <tr>\n",
       "      <th>11887</th>\n",
       "      <td>unknown</td>\n",
       "      <td>2019-11-19</td>\n",
       "      <td>119</td>\n",
       "    </tr>\n",
       "    <tr>\n",
       "      <th>11894</th>\n",
       "      <td>unknown</td>\n",
       "      <td>2019-11-26</td>\n",
       "      <td>118</td>\n",
       "    </tr>\n",
       "    <tr>\n",
       "      <th>11888</th>\n",
       "      <td>unknown</td>\n",
       "      <td>2019-11-20</td>\n",
       "      <td>117</td>\n",
       "    </tr>\n",
       "  </tbody>\n",
       "</table>\n",
       "</div>"
      ],
      "text/plain": [
       "      operator_id       date  daily_missed_calls\n",
       "11865     unknown 2019-10-28                 121\n",
       "11896     unknown 2019-11-28                 120\n",
       "11887     unknown 2019-11-19                 119\n",
       "11894     unknown 2019-11-26                 118\n",
       "11888     unknown 2019-11-20                 117"
      ]
     },
     "execution_count": 44,
     "metadata": {},
     "output_type": "execute_result"
    }
   ],
   "source": [
    "# Numero de llamadas perdidas por operador al dia.\n",
    "num_llam_perd_dia = llamadas_in.groupby(['operator_id', 'date'])['is_missed_call'].sum().reset_index(name='daily_missed_calls').sort_values(by='daily_missed_calls', ascending=False)\n",
    "num_llam_perd_dia.head()"
   ]
  },
  {
   "cell_type": "code",
   "execution_count": 45,
   "metadata": {},
   "outputs": [
    {
     "data": {
      "text/html": [
       "<div>\n",
       "<style scoped>\n",
       "    .dataframe tbody tr th:only-of-type {\n",
       "        vertical-align: middle;\n",
       "    }\n",
       "\n",
       "    .dataframe tbody tr th {\n",
       "        vertical-align: top;\n",
       "    }\n",
       "\n",
       "    .dataframe thead th {\n",
       "        text-align: right;\n",
       "    }\n",
       "</style>\n",
       "<table border=\"1\" class=\"dataframe\">\n",
       "  <thead>\n",
       "    <tr style=\"text-align: right;\">\n",
       "      <th></th>\n",
       "      <th>operator_id</th>\n",
       "      <th>mean_missed_calls</th>\n",
       "    </tr>\n",
       "  </thead>\n",
       "  <tbody>\n",
       "    <tr>\n",
       "      <th>754</th>\n",
       "      <td>unknown</td>\n",
       "      <td>60.07563</td>\n",
       "    </tr>\n",
       "    <tr>\n",
       "      <th>525</th>\n",
       "      <td>937898</td>\n",
       "      <td>1.00000</td>\n",
       "    </tr>\n",
       "    <tr>\n",
       "      <th>641</th>\n",
       "      <td>948756</td>\n",
       "      <td>1.00000</td>\n",
       "    </tr>\n",
       "    <tr>\n",
       "      <th>698</th>\n",
       "      <td>957922</td>\n",
       "      <td>1.00000</td>\n",
       "    </tr>\n",
       "    <tr>\n",
       "      <th>185</th>\n",
       "      <td>904344</td>\n",
       "      <td>1.00000</td>\n",
       "    </tr>\n",
       "  </tbody>\n",
       "</table>\n",
       "</div>"
      ],
      "text/plain": [
       "    operator_id  mean_missed_calls\n",
       "754     unknown           60.07563\n",
       "525      937898            1.00000\n",
       "641      948756            1.00000\n",
       "698      957922            1.00000\n",
       "185      904344            1.00000"
      ]
     },
     "execution_count": 45,
     "metadata": {},
     "output_type": "execute_result"
    }
   ],
   "source": [
    "# Promedio de llamadas entrantes perdidas por operador\n",
    "prom_llam_perd = num_llam_perd_dia.groupby('operator_id')['daily_missed_calls'].mean().reset_index(name='mean_missed_calls').sort_values(by='mean_missed_calls', ascending=False)\n",
    "prom_llam_perd.head()"
   ]
  },
  {
   "cell_type": "code",
   "execution_count": 46,
   "metadata": {},
   "outputs": [
    {
     "data": {
      "image/png": "[encoded data removed]",
      "text/plain": [
       "<Figure size 500x300 with 1 Axes>"
      ]
     },
     "metadata": {},
     "output_type": "display_data"
    }
   ],
   "source": [
    "# Grafico de barras con el numero de llamadas entrantes en cada mes\n",
    "plt.figure(figsize=(5, 3))\n",
    "llamadas_in.groupby(llamadas_in['date'].dt.month)['is_missed_call'].sum().plot(kind='bar')\n",
    "plt.title('Numero de llamadas perdidas por mes')\n",
    "plt.xlabel('Mes')\n",
    "plt.ylabel('Lamadas perdidas')\n",
    "plt.show()"
   ]
  },
  {
   "cell_type": "markdown",
   "metadata": {},
   "source": [
    "## Tiempo de espera en llamadas entrantes para cada operador"
   ]
  },
  {
   "cell_type": "code",
   "execution_count": 47,
   "metadata": {},
   "outputs": [
    {
     "data": {
      "text/html": [
       "<div>\n",
       "<style scoped>\n",
       "    .dataframe tbody tr th:only-of-type {\n",
       "        vertical-align: middle;\n",
       "    }\n",
       "\n",
       "    .dataframe tbody tr th {\n",
       "        vertical-align: top;\n",
       "    }\n",
       "\n",
       "    .dataframe thead th {\n",
       "        text-align: right;\n",
       "    }\n",
       "</style>\n",
       "<table border=\"1\" class=\"dataframe\">\n",
       "  <thead>\n",
       "    <tr style=\"text-align: right;\">\n",
       "      <th></th>\n",
       "      <th>operator_id</th>\n",
       "      <th>waiting_time</th>\n",
       "    </tr>\n",
       "  </thead>\n",
       "  <tbody>\n",
       "    <tr>\n",
       "      <th>754</th>\n",
       "      <td>unknown</td>\n",
       "      <td>21047.9414</td>\n",
       "    </tr>\n",
       "    <tr>\n",
       "      <th>335</th>\n",
       "      <td>919790</td>\n",
       "      <td>879.9165</td>\n",
       "    </tr>\n",
       "    <tr>\n",
       "      <th>288</th>\n",
       "      <td>913938</td>\n",
       "      <td>676.2838</td>\n",
       "    </tr>\n",
       "    <tr>\n",
       "      <th>334</th>\n",
       "      <td>919554</td>\n",
       "      <td>636.6499</td>\n",
       "    </tr>\n",
       "    <tr>\n",
       "      <th>333</th>\n",
       "      <td>919552</td>\n",
       "      <td>616.9665</td>\n",
       "    </tr>\n",
       "  </tbody>\n",
       "</table>\n",
       "</div>"
      ],
      "text/plain": [
       "    operator_id  waiting_time\n",
       "754     unknown    21047.9414\n",
       "335      919790      879.9165\n",
       "288      913938      676.2838\n",
       "334      919554      636.6499\n",
       "333      919552      616.9665"
      ]
     },
     "execution_count": 47,
     "metadata": {},
     "output_type": "execute_result"
    }
   ],
   "source": [
    "# Tiempo de espera para cada operador\n",
    "tiem_esper = llamadas_in.groupby(['operator_id'])['call_waiting_time'].sum().reset_index(name='waiting_time').sort_values(by='waiting_time', ascending=False)\n",
    "tiem_esper.head()"
   ]
  },
  {
   "cell_type": "code",
   "execution_count": 48,
   "metadata": {},
   "outputs": [
    {
     "data": {
      "text/html": [
       "<div>\n",
       "<style scoped>\n",
       "    .dataframe tbody tr th:only-of-type {\n",
       "        vertical-align: middle;\n",
       "    }\n",
       "\n",
       "    .dataframe tbody tr th {\n",
       "        vertical-align: top;\n",
       "    }\n",
       "\n",
       "    .dataframe thead th {\n",
       "        text-align: right;\n",
       "    }\n",
       "</style>\n",
       "<table border=\"1\" class=\"dataframe\">\n",
       "  <thead>\n",
       "    <tr style=\"text-align: right;\">\n",
       "      <th></th>\n",
       "      <th>operator_id</th>\n",
       "      <th>mean_waiting_time</th>\n",
       "    </tr>\n",
       "  </thead>\n",
       "  <tbody>\n",
       "    <tr>\n",
       "      <th>337</th>\n",
       "      <td>919794</td>\n",
       "      <td>16.789584</td>\n",
       "    </tr>\n",
       "    <tr>\n",
       "      <th>335</th>\n",
       "      <td>919790</td>\n",
       "      <td>14.913839</td>\n",
       "    </tr>\n",
       "    <tr>\n",
       "      <th>206</th>\n",
       "      <td>906070</td>\n",
       "      <td>14.829993</td>\n",
       "    </tr>\n",
       "    <tr>\n",
       "      <th>445</th>\n",
       "      <td>931458</td>\n",
       "      <td>11.813994</td>\n",
       "    </tr>\n",
       "    <tr>\n",
       "      <th>358</th>\n",
       "      <td>921318</td>\n",
       "      <td>11.050973</td>\n",
       "    </tr>\n",
       "  </tbody>\n",
       "</table>\n",
       "</div>"
      ],
      "text/plain": [
       "    operator_id  mean_waiting_time\n",
       "337      919794          16.789584\n",
       "335      919790          14.913839\n",
       "206      906070          14.829993\n",
       "445      931458          11.813994\n",
       "358      921318          11.050973"
      ]
     },
     "execution_count": 48,
     "metadata": {},
     "output_type": "execute_result"
    }
   ],
   "source": [
    "# Tiempo de espera promedio por operador\n",
    "Tiem_esper_prom = llamadas_in.groupby(['operator_id'])['call_waiting_time'].mean().reset_index(name='mean_waiting_time').sort_values(by='mean_waiting_time', ascending=False)\n",
    "Tiem_esper_prom.head()"
   ]
  },
  {
   "cell_type": "code",
   "execution_count": 49,
   "metadata": {},
   "outputs": [
    {
     "data": {
      "image/png": "[encoded data removed]",
      "text/plain": [
       "<Figure size 500x300 with 1 Axes>"
      ]
     },
     "metadata": {},
     "output_type": "display_data"
    }
   ],
   "source": [
    "# Grafico de barras con el tiempo de espera en cada mes \n",
    "plt.figure(figsize=(5, 3))\n",
    "llamadas_in.groupby(llamadas_in['date'].dt.month)['call_waiting_time'].sum().plot(kind='bar')\n",
    "plt.title('Tiempo de espera por mes')\n",
    "plt.xlabel('Mes')\n",
    "plt.ylabel('Teimpo de espera')\n",
    "plt.show()"
   ]
  },
  {
   "cell_type": "markdown",
   "metadata": {},
   "source": [
    "## Numero de llamadas salientes"
   ]
  },
  {
   "cell_type": "code",
   "execution_count": 50,
   "metadata": {},
   "outputs": [],
   "source": [
    "# Df con solo las llamadas salientes\n",
    "llamadas_out = datos[datos['direction'] == 'out']"
   ]
  },
  {
   "cell_type": "code",
   "execution_count": 51,
   "metadata": {},
   "outputs": [
    {
     "data": {
      "text/html": [
       "<div>\n",
       "<style scoped>\n",
       "    .dataframe tbody tr th:only-of-type {\n",
       "        vertical-align: middle;\n",
       "    }\n",
       "\n",
       "    .dataframe tbody tr th {\n",
       "        vertical-align: top;\n",
       "    }\n",
       "\n",
       "    .dataframe thead th {\n",
       "        text-align: right;\n",
       "    }\n",
       "</style>\n",
       "<table border=\"1\" class=\"dataframe\">\n",
       "  <thead>\n",
       "    <tr style=\"text-align: right;\">\n",
       "      <th></th>\n",
       "      <th>operator_id</th>\n",
       "      <th>count_out_calls</th>\n",
       "    </tr>\n",
       "  </thead>\n",
       "  <tbody>\n",
       "    <tr>\n",
       "      <th>25</th>\n",
       "      <td>885890</td>\n",
       "      <td>58977</td>\n",
       "    </tr>\n",
       "    <tr>\n",
       "      <th>24</th>\n",
       "      <td>885876</td>\n",
       "      <td>58437</td>\n",
       "    </tr>\n",
       "    <tr>\n",
       "      <th>466</th>\n",
       "      <td>929428</td>\n",
       "      <td>23754</td>\n",
       "    </tr>\n",
       "    <tr>\n",
       "      <th>446</th>\n",
       "      <td>925922</td>\n",
       "      <td>19603</td>\n",
       "    </tr>\n",
       "    <tr>\n",
       "      <th>255</th>\n",
       "      <td>908640</td>\n",
       "      <td>14239</td>\n",
       "    </tr>\n",
       "  </tbody>\n",
       "</table>\n",
       "</div>"
      ],
      "text/plain": [
       "    operator_id  count_out_calls\n",
       "25       885890            58977\n",
       "24       885876            58437\n",
       "466      929428            23754\n",
       "446      925922            19603\n",
       "255      908640            14239"
      ]
     },
     "execution_count": 51,
     "metadata": {},
     "output_type": "execute_result"
    }
   ],
   "source": [
    "# Numero de llamadas salientes por operador\n",
    "num_llam_sali = llamadas_out.groupby('operator_id')['calls_count'].sum().reset_index(name='count_out_calls').sort_values(by='count_out_calls', ascending=False)\n",
    "num_llam_sali.head()"
   ]
  },
  {
   "cell_type": "code",
   "execution_count": 52,
   "metadata": {},
   "outputs": [
    {
     "data": {
      "text/html": [
       "<div>\n",
       "<style scoped>\n",
       "    .dataframe tbody tr th:only-of-type {\n",
       "        vertical-align: middle;\n",
       "    }\n",
       "\n",
       "    .dataframe tbody tr th {\n",
       "        vertical-align: top;\n",
       "    }\n",
       "\n",
       "    .dataframe thead th {\n",
       "        text-align: right;\n",
       "    }\n",
       "</style>\n",
       "<table border=\"1\" class=\"dataframe\">\n",
       "  <thead>\n",
       "    <tr style=\"text-align: right;\">\n",
       "      <th></th>\n",
       "      <th>operator_id</th>\n",
       "      <th>mean_out_calls</th>\n",
       "    </tr>\n",
       "  </thead>\n",
       "  <tbody>\n",
       "    <tr>\n",
       "      <th>446</th>\n",
       "      <td>925922</td>\n",
       "      <td>426.152174</td>\n",
       "    </tr>\n",
       "    <tr>\n",
       "      <th>25</th>\n",
       "      <td>885890</td>\n",
       "      <td>370.924528</td>\n",
       "    </tr>\n",
       "    <tr>\n",
       "      <th>466</th>\n",
       "      <td>929428</td>\n",
       "      <td>365.446154</td>\n",
       "    </tr>\n",
       "    <tr>\n",
       "      <th>255</th>\n",
       "      <td>908640</td>\n",
       "      <td>331.139535</td>\n",
       "    </tr>\n",
       "    <tr>\n",
       "      <th>24</th>\n",
       "      <td>885876</td>\n",
       "      <td>302.782383</td>\n",
       "    </tr>\n",
       "  </tbody>\n",
       "</table>\n",
       "</div>"
      ],
      "text/plain": [
       "    operator_id  mean_out_calls\n",
       "446      925922      426.152174\n",
       "25       885890      370.924528\n",
       "466      929428      365.446154\n",
       "255      908640      331.139535\n",
       "24       885876      302.782383"
      ]
     },
     "execution_count": 52,
     "metadata": {},
     "output_type": "execute_result"
    }
   ],
   "source": [
    "# Promedio de llamadas salientes por operador\n",
    "prom_llam_sali = llamadas_out.groupby('operator_id')['calls_count'].mean().reset_index(name='mean_out_calls').sort_values(by='mean_out_calls', ascending=False)\n",
    "prom_llam_sali.head()"
   ]
  },
  {
   "cell_type": "markdown",
   "metadata": {},
   "source": [
    "## DataFrame con todas las metricas por operador"
   ]
  },
  {
   "cell_type": "code",
   "execution_count": 53,
   "metadata": {},
   "outputs": [],
   "source": [
    "# Unir todas las metricas en un solo df con merge\n",
    "metricas_operador_1 = pd.merge(num_llam_perd, tiem_esper, on='operator_id', how='left')"
   ]
  },
  {
   "cell_type": "code",
   "execution_count": 54,
   "metadata": {},
   "outputs": [],
   "source": [
    "# Df final con los operadores y sus respectivas metricas\n",
    "metricas_operador = pd.merge(metricas_operador_1, num_llam_sali, on='operator_id', how='outer')"
   ]
  },
  {
   "cell_type": "code",
   "execution_count": 55,
   "metadata": {},
   "outputs": [
    {
     "data": {
      "text/html": [
       "<div>\n",
       "<style scoped>\n",
       "    .dataframe tbody tr th:only-of-type {\n",
       "        vertical-align: middle;\n",
       "    }\n",
       "\n",
       "    .dataframe tbody tr th {\n",
       "        vertical-align: top;\n",
       "    }\n",
       "\n",
       "    .dataframe thead th {\n",
       "        text-align: right;\n",
       "    }\n",
       "</style>\n",
       "<table border=\"1\" class=\"dataframe\">\n",
       "  <thead>\n",
       "    <tr style=\"text-align: right;\">\n",
       "      <th></th>\n",
       "      <th>operator_id</th>\n",
       "      <th>count_missed_calls</th>\n",
       "      <th>waiting_time</th>\n",
       "      <th>count_out_calls</th>\n",
       "    </tr>\n",
       "  </thead>\n",
       "  <tbody>\n",
       "    <tr>\n",
       "      <th>0</th>\n",
       "      <td>unknown</td>\n",
       "      <td>7149.0</td>\n",
       "      <td>21047.9414</td>\n",
       "      <td>515.0</td>\n",
       "    </tr>\n",
       "    <tr>\n",
       "      <th>1</th>\n",
       "      <td>913942</td>\n",
       "      <td>28.0</td>\n",
       "      <td>492.8835</td>\n",
       "      <td>440.0</td>\n",
       "    </tr>\n",
       "    <tr>\n",
       "      <th>2</th>\n",
       "      <td>885890</td>\n",
       "      <td>21.0</td>\n",
       "      <td>188.4331</td>\n",
       "      <td>58977.0</td>\n",
       "    </tr>\n",
       "    <tr>\n",
       "      <th>3</th>\n",
       "      <td>885876</td>\n",
       "      <td>17.0</td>\n",
       "      <td>150.2837</td>\n",
       "      <td>58437.0</td>\n",
       "    </tr>\n",
       "    <tr>\n",
       "      <th>4</th>\n",
       "      <td>944216</td>\n",
       "      <td>16.0</td>\n",
       "      <td>139.0668</td>\n",
       "      <td>133.0</td>\n",
       "    </tr>\n",
       "  </tbody>\n",
       "</table>\n",
       "</div>"
      ],
      "text/plain": [
       "  operator_id  count_missed_calls  waiting_time  count_out_calls\n",
       "0     unknown              7149.0    21047.9414            515.0\n",
       "1      913942                28.0      492.8835            440.0\n",
       "2      885890                21.0      188.4331          58977.0\n",
       "3      885876                17.0      150.2837          58437.0\n",
       "4      944216                16.0      139.0668            133.0"
      ]
     },
     "execution_count": 55,
     "metadata": {},
     "output_type": "execute_result"
    }
   ],
   "source": [
    "metricas_operador.head()"
   ]
  },
  {
   "cell_type": "markdown",
   "metadata": {},
   "source": [
    "## Calculo de percentiles para umbran de ineficacia"
   ]
  },
  {
   "cell_type": "markdown",
   "metadata": {},
   "source": [
    "Calculo de percentiles que servirán como umbral para determinar que operario es ineficaz y cual es eficaz."
   ]
  },
  {
   "cell_type": "code",
   "execution_count": 56,
   "metadata": {},
   "outputs": [
    {
     "data": {
      "text/html": [
       "<div>\n",
       "<style scoped>\n",
       "    .dataframe tbody tr th:only-of-type {\n",
       "        vertical-align: middle;\n",
       "    }\n",
       "\n",
       "    .dataframe tbody tr th {\n",
       "        vertical-align: top;\n",
       "    }\n",
       "\n",
       "    .dataframe thead th {\n",
       "        text-align: right;\n",
       "    }\n",
       "</style>\n",
       "<table border=\"1\" class=\"dataframe\">\n",
       "  <thead>\n",
       "    <tr style=\"text-align: right;\">\n",
       "      <th></th>\n",
       "      <th>count_missed_calls</th>\n",
       "      <th>waiting_time</th>\n",
       "      <th>count_out_calls</th>\n",
       "    </tr>\n",
       "  </thead>\n",
       "  <tbody>\n",
       "    <tr>\n",
       "      <th>count</th>\n",
       "      <td>755.000000</td>\n",
       "      <td>755.000000</td>\n",
       "      <td>883.000000</td>\n",
       "    </tr>\n",
       "    <tr>\n",
       "      <th>mean</th>\n",
       "      <td>10.374834</td>\n",
       "      <td>55.081139</td>\n",
       "      <td>689.533409</td>\n",
       "    </tr>\n",
       "    <tr>\n",
       "      <th>std</th>\n",
       "      <td>260.156831</td>\n",
       "      <td>768.903976</td>\n",
       "      <td>3121.188601</td>\n",
       "    </tr>\n",
       "    <tr>\n",
       "      <th>min</th>\n",
       "      <td>0.000000</td>\n",
       "      <td>0.016700</td>\n",
       "      <td>1.000000</td>\n",
       "    </tr>\n",
       "    <tr>\n",
       "      <th>25%</th>\n",
       "      <td>0.000000</td>\n",
       "      <td>1.025000</td>\n",
       "      <td>11.000000</td>\n",
       "    </tr>\n",
       "    <tr>\n",
       "      <th>50%</th>\n",
       "      <td>0.000000</td>\n",
       "      <td>4.250000</td>\n",
       "      <td>90.000000</td>\n",
       "    </tr>\n",
       "    <tr>\n",
       "      <th>75%</th>\n",
       "      <td>1.000000</td>\n",
       "      <td>17.933200</td>\n",
       "      <td>591.500000</td>\n",
       "    </tr>\n",
       "    <tr>\n",
       "      <th>max</th>\n",
       "      <td>7149.000000</td>\n",
       "      <td>21047.941400</td>\n",
       "      <td>58977.000000</td>\n",
       "    </tr>\n",
       "  </tbody>\n",
       "</table>\n",
       "</div>"
      ],
      "text/plain": [
       "       count_missed_calls  waiting_time  count_out_calls\n",
       "count          755.000000    755.000000       883.000000\n",
       "mean            10.374834     55.081139       689.533409\n",
       "std            260.156831    768.903976      3121.188601\n",
       "min              0.000000      0.016700         1.000000\n",
       "25%              0.000000      1.025000        11.000000\n",
       "50%              0.000000      4.250000        90.000000\n",
       "75%              1.000000     17.933200       591.500000\n",
       "max           7149.000000  21047.941400     58977.000000"
      ]
     },
     "execution_count": 56,
     "metadata": {},
     "output_type": "execute_result"
    }
   ],
   "source": [
    "# Estadistica basica de metricas_operador para visualizar percentiles \n",
    "metricas_operador.describe()"
   ]
  },
  {
   "cell_type": "code",
   "execution_count": 57,
   "metadata": {},
   "outputs": [
    {
     "name": "stdout",
     "output_type": "stream",
     "text": [
      "El percentil 95 para llamadas perdidas es: 5.0\n"
     ]
    }
   ],
   "source": [
    "# Caluclo de percentil umbral de eficiencia llamadas perdidas (los que esten por encima del percentil 95 son ineficaces)\n",
    "llam_per_sin_nan = metricas_operador['count_missed_calls'].dropna()\n",
    "percentil_llam_per = np.percentile(llam_per_sin_nan, 95)\n",
    "print(f\"El percentil 95 para llamadas perdidas es: {percentil_llam_per}\")"
   ]
  },
  {
   "cell_type": "code",
   "execution_count": 58,
   "metadata": {},
   "outputs": [
    {
     "name": "stdout",
     "output_type": "stream",
     "text": [
      "El percentil 85 para tiempo de espera es: 39.15503\n"
     ]
    }
   ],
   "source": [
    "# Caluclo de percentil umbral de eficiencia tiempo de espera (los que esten por encima del percentil 85 son ineficaces)\n",
    "tiem_espe_sin_nan = metricas_operador['waiting_time'].dropna()\n",
    "percentil_tiem_espe = np.percentile(tiem_espe_sin_nan, 85)\n",
    "print(f\"El percentil 85 para tiempo de espera es: {percentil_tiem_espe}\")"
   ]
  },
  {
   "cell_type": "code",
   "execution_count": 59,
   "metadata": {},
   "outputs": [
    {
     "name": "stdout",
     "output_type": "stream",
     "text": [
      "El percentil 60 para llamadas salientes es: 196.0\n"
     ]
    }
   ],
   "source": [
    "# Caluclo de percentil umbral de eficiencia llamadas salientes (los que esten por debajo del percentil 60 son ineficaces)\n",
    "llam_sali_sin_nan = metricas_operador['count_out_calls'].dropna()\n",
    "percentil_llam_sali = np.percentile(llam_sali_sin_nan, 60)\n",
    "print(f\"El percentil 60 para llamadas salientes es: {percentil_llam_sali}\")"
   ]
  },
  {
   "cell_type": "markdown",
   "metadata": {},
   "source": [
    "## Filtrar los operadores ineficaces"
   ]
  },
  {
   "cell_type": "code",
   "execution_count": 60,
   "metadata": {},
   "outputs": [],
   "source": [
    "# Filtro para operadores ineficaces\n",
    "filtro_ineficaces = (metricas_operador['count_missed_calls'] > \n",
    "                   percentil_llam_per) & (metricas_operador['waiting_time'] > \n",
    "                                          percentil_tiem_espe) & (metricas_operador['count_out_calls'] < \n",
    "                                                                  percentil_llam_sali)"
   ]
  },
  {
   "cell_type": "code",
   "execution_count": 61,
   "metadata": {},
   "outputs": [],
   "source": [
    "# Filtro para operadores eficaces\n",
    "filtro_eficaces = (metricas_operador['count_missed_calls'] < \n",
    "                   percentil_llam_per) & (metricas_operador['waiting_time'] < \n",
    "                                          percentil_tiem_espe) & (metricas_operador['count_out_calls'] > \n",
    "                                                                  percentil_llam_sali)"
   ]
  },
  {
   "cell_type": "code",
   "execution_count": 62,
   "metadata": {},
   "outputs": [],
   "source": [
    "# Encontrar los operadores ineficaces con el filtro\n",
    "oper_ineficaces = metricas_operador[filtro_ineficaces]"
   ]
  },
  {
   "cell_type": "code",
   "execution_count": 63,
   "metadata": {},
   "outputs": [],
   "source": [
    "# Encontrar los operadores eficaces con el filtro\n",
    "oper_eficaces = metricas_operador[filtro_eficaces]"
   ]
  },
  {
   "cell_type": "code",
   "execution_count": 64,
   "metadata": {},
   "outputs": [
    {
     "data": {
      "text/html": [
       "<div>\n",
       "<style scoped>\n",
       "    .dataframe tbody tr th:only-of-type {\n",
       "        vertical-align: middle;\n",
       "    }\n",
       "\n",
       "    .dataframe tbody tr th {\n",
       "        vertical-align: top;\n",
       "    }\n",
       "\n",
       "    .dataframe thead th {\n",
       "        text-align: right;\n",
       "    }\n",
       "</style>\n",
       "<table border=\"1\" class=\"dataframe\">\n",
       "  <thead>\n",
       "    <tr style=\"text-align: right;\">\n",
       "      <th></th>\n",
       "      <th>operator_id</th>\n",
       "      <th>count_missed_calls</th>\n",
       "      <th>waiting_time</th>\n",
       "      <th>count_out_calls</th>\n",
       "    </tr>\n",
       "  </thead>\n",
       "  <tbody>\n",
       "    <tr>\n",
       "      <th>50</th>\n",
       "      <td>929424</td>\n",
       "      <td>3.0</td>\n",
       "      <td>27.6500</td>\n",
       "      <td>3963.0</td>\n",
       "    </tr>\n",
       "    <tr>\n",
       "      <th>52</th>\n",
       "      <td>900892</td>\n",
       "      <td>3.0</td>\n",
       "      <td>37.2166</td>\n",
       "      <td>933.0</td>\n",
       "    </tr>\n",
       "    <tr>\n",
       "      <th>53</th>\n",
       "      <td>940614</td>\n",
       "      <td>3.0</td>\n",
       "      <td>7.8499</td>\n",
       "      <td>426.0</td>\n",
       "    </tr>\n",
       "    <tr>\n",
       "      <th>61</th>\n",
       "      <td>912296</td>\n",
       "      <td>3.0</td>\n",
       "      <td>33.3497</td>\n",
       "      <td>483.0</td>\n",
       "    </tr>\n",
       "    <tr>\n",
       "      <th>62</th>\n",
       "      <td>947304</td>\n",
       "      <td>3.0</td>\n",
       "      <td>3.4668</td>\n",
       "      <td>645.0</td>\n",
       "    </tr>\n",
       "    <tr>\n",
       "      <th>...</th>\n",
       "      <td>...</td>\n",
       "      <td>...</td>\n",
       "      <td>...</td>\n",
       "      <td>...</td>\n",
       "    </tr>\n",
       "    <tr>\n",
       "      <th>697</th>\n",
       "      <td>912252</td>\n",
       "      <td>0.0</td>\n",
       "      <td>10.0670</td>\n",
       "      <td>224.0</td>\n",
       "    </tr>\n",
       "    <tr>\n",
       "      <th>707</th>\n",
       "      <td>907986</td>\n",
       "      <td>0.0</td>\n",
       "      <td>0.3333</td>\n",
       "      <td>447.0</td>\n",
       "    </tr>\n",
       "    <tr>\n",
       "      <th>717</th>\n",
       "      <td>912722</td>\n",
       "      <td>0.0</td>\n",
       "      <td>15.5668</td>\n",
       "      <td>385.0</td>\n",
       "    </tr>\n",
       "    <tr>\n",
       "      <th>738</th>\n",
       "      <td>917234</td>\n",
       "      <td>0.0</td>\n",
       "      <td>1.1500</td>\n",
       "      <td>1174.0</td>\n",
       "    </tr>\n",
       "    <tr>\n",
       "      <th>741</th>\n",
       "      <td>914050</td>\n",
       "      <td>0.0</td>\n",
       "      <td>1.7001</td>\n",
       "      <td>387.0</td>\n",
       "    </tr>\n",
       "  </tbody>\n",
       "</table>\n",
       "<p>133 rows × 4 columns</p>\n",
       "</div>"
      ],
      "text/plain": [
       "    operator_id  count_missed_calls  waiting_time  count_out_calls\n",
       "50       929424                 3.0       27.6500           3963.0\n",
       "52       900892                 3.0       37.2166            933.0\n",
       "53       940614                 3.0        7.8499            426.0\n",
       "61       912296                 3.0       33.3497            483.0\n",
       "62       947304                 3.0        3.4668            645.0\n",
       "..          ...                 ...           ...              ...\n",
       "697      912252                 0.0       10.0670            224.0\n",
       "707      907986                 0.0        0.3333            447.0\n",
       "717      912722                 0.0       15.5668            385.0\n",
       "738      917234                 0.0        1.1500           1174.0\n",
       "741      914050                 0.0        1.7001            387.0\n",
       "\n",
       "[133 rows x 4 columns]"
      ]
     },
     "execution_count": 64,
     "metadata": {},
     "output_type": "execute_result"
    }
   ],
   "source": [
    "oper_eficaces"
   ]
  },
  {
   "cell_type": "code",
   "execution_count": 65,
   "metadata": {},
   "outputs": [
    {
     "data": {
      "text/html": [
       "<div>\n",
       "<style scoped>\n",
       "    .dataframe tbody tr th:only-of-type {\n",
       "        vertical-align: middle;\n",
       "    }\n",
       "\n",
       "    .dataframe tbody tr th {\n",
       "        vertical-align: top;\n",
       "    }\n",
       "\n",
       "    .dataframe thead th {\n",
       "        text-align: right;\n",
       "    }\n",
       "</style>\n",
       "<table border=\"1\" class=\"dataframe\">\n",
       "  <thead>\n",
       "    <tr style=\"text-align: right;\">\n",
       "      <th></th>\n",
       "      <th>operator_id</th>\n",
       "      <th>count_missed_calls</th>\n",
       "      <th>waiting_time</th>\n",
       "      <th>count_out_calls</th>\n",
       "    </tr>\n",
       "  </thead>\n",
       "  <tbody>\n",
       "    <tr>\n",
       "      <th>4</th>\n",
       "      <td>944216</td>\n",
       "      <td>16.0</td>\n",
       "      <td>139.0668</td>\n",
       "      <td>133.0</td>\n",
       "    </tr>\n",
       "    <tr>\n",
       "      <th>5</th>\n",
       "      <td>940588</td>\n",
       "      <td>15.0</td>\n",
       "      <td>110.2665</td>\n",
       "      <td>67.0</td>\n",
       "    </tr>\n",
       "    <tr>\n",
       "      <th>6</th>\n",
       "      <td>944226</td>\n",
       "      <td>14.0</td>\n",
       "      <td>127.9830</td>\n",
       "      <td>109.0</td>\n",
       "    </tr>\n",
       "    <tr>\n",
       "      <th>9</th>\n",
       "      <td>940630</td>\n",
       "      <td>11.0</td>\n",
       "      <td>135.5331</td>\n",
       "      <td>127.0</td>\n",
       "    </tr>\n",
       "    <tr>\n",
       "      <th>10</th>\n",
       "      <td>919554</td>\n",
       "      <td>11.0</td>\n",
       "      <td>636.6499</td>\n",
       "      <td>11.0</td>\n",
       "    </tr>\n",
       "    <tr>\n",
       "      <th>12</th>\n",
       "      <td>944218</td>\n",
       "      <td>11.0</td>\n",
       "      <td>149.9331</td>\n",
       "      <td>164.0</td>\n",
       "    </tr>\n",
       "    <tr>\n",
       "      <th>13</th>\n",
       "      <td>951508</td>\n",
       "      <td>10.0</td>\n",
       "      <td>106.1000</td>\n",
       "      <td>146.0</td>\n",
       "    </tr>\n",
       "    <tr>\n",
       "      <th>21</th>\n",
       "      <td>908960</td>\n",
       "      <td>8.0</td>\n",
       "      <td>270.5665</td>\n",
       "      <td>113.0</td>\n",
       "    </tr>\n",
       "    <tr>\n",
       "      <th>22</th>\n",
       "      <td>919206</td>\n",
       "      <td>7.0</td>\n",
       "      <td>122.8169</td>\n",
       "      <td>1.0</td>\n",
       "    </tr>\n",
       "    <tr>\n",
       "      <th>26</th>\n",
       "      <td>905104</td>\n",
       "      <td>6.0</td>\n",
       "      <td>85.1834</td>\n",
       "      <td>187.0</td>\n",
       "    </tr>\n",
       "  </tbody>\n",
       "</table>\n",
       "</div>"
      ],
      "text/plain": [
       "   operator_id  count_missed_calls  waiting_time  count_out_calls\n",
       "4       944216                16.0      139.0668            133.0\n",
       "5       940588                15.0      110.2665             67.0\n",
       "6       944226                14.0      127.9830            109.0\n",
       "9       940630                11.0      135.5331            127.0\n",
       "10      919554                11.0      636.6499             11.0\n",
       "12      944218                11.0      149.9331            164.0\n",
       "13      951508                10.0      106.1000            146.0\n",
       "21      908960                 8.0      270.5665            113.0\n",
       "22      919206                 7.0      122.8169              1.0\n",
       "26      905104                 6.0       85.1834            187.0"
      ]
     },
     "execution_count": 65,
     "metadata": {},
     "output_type": "execute_result"
    }
   ],
   "source": [
    "oper_ineficaces"
   ]
  },
  {
   "cell_type": "code",
   "execution_count": 66,
   "metadata": {},
   "outputs": [
    {
     "data": {
      "text/html": [
       "<div>\n",
       "<style scoped>\n",
       "    .dataframe tbody tr th:only-of-type {\n",
       "        vertical-align: middle;\n",
       "    }\n",
       "\n",
       "    .dataframe tbody tr th {\n",
       "        vertical-align: top;\n",
       "    }\n",
       "\n",
       "    .dataframe thead th {\n",
       "        text-align: right;\n",
       "    }\n",
       "</style>\n",
       "<table border=\"1\" class=\"dataframe\">\n",
       "  <thead>\n",
       "    <tr style=\"text-align: right;\">\n",
       "      <th></th>\n",
       "      <th>count_missed_calls</th>\n",
       "      <th>waiting_time</th>\n",
       "      <th>count_out_calls</th>\n",
       "    </tr>\n",
       "  </thead>\n",
       "  <tbody>\n",
       "    <tr>\n",
       "      <th>count</th>\n",
       "      <td>10.0000</td>\n",
       "      <td>10.000000</td>\n",
       "      <td>10.000000</td>\n",
       "    </tr>\n",
       "    <tr>\n",
       "      <th>mean</th>\n",
       "      <td>10.9000</td>\n",
       "      <td>188.409920</td>\n",
       "      <td>105.800000</td>\n",
       "    </tr>\n",
       "    <tr>\n",
       "      <th>std</th>\n",
       "      <td>3.3483</td>\n",
       "      <td>165.284549</td>\n",
       "      <td>61.755432</td>\n",
       "    </tr>\n",
       "    <tr>\n",
       "      <th>min</th>\n",
       "      <td>6.0000</td>\n",
       "      <td>85.183400</td>\n",
       "      <td>1.000000</td>\n",
       "    </tr>\n",
       "    <tr>\n",
       "      <th>25%</th>\n",
       "      <td>8.5000</td>\n",
       "      <td>113.404100</td>\n",
       "      <td>77.500000</td>\n",
       "    </tr>\n",
       "    <tr>\n",
       "      <th>50%</th>\n",
       "      <td>11.0000</td>\n",
       "      <td>131.758050</td>\n",
       "      <td>120.000000</td>\n",
       "    </tr>\n",
       "    <tr>\n",
       "      <th>75%</th>\n",
       "      <td>13.2500</td>\n",
       "      <td>147.216525</td>\n",
       "      <td>142.750000</td>\n",
       "    </tr>\n",
       "    <tr>\n",
       "      <th>max</th>\n",
       "      <td>16.0000</td>\n",
       "      <td>636.649900</td>\n",
       "      <td>187.000000</td>\n",
       "    </tr>\n",
       "  </tbody>\n",
       "</table>\n",
       "</div>"
      ],
      "text/plain": [
       "       count_missed_calls  waiting_time  count_out_calls\n",
       "count             10.0000     10.000000        10.000000\n",
       "mean              10.9000    188.409920       105.800000\n",
       "std                3.3483    165.284549        61.755432\n",
       "min                6.0000     85.183400         1.000000\n",
       "25%                8.5000    113.404100        77.500000\n",
       "50%               11.0000    131.758050       120.000000\n",
       "75%               13.2500    147.216525       142.750000\n",
       "max               16.0000    636.649900       187.000000"
      ]
     },
     "execution_count": 66,
     "metadata": {},
     "output_type": "execute_result"
    }
   ],
   "source": [
    "oper_ineficaces.describe()"
   ]
  },
  {
   "cell_type": "markdown",
   "metadata": {},
   "source": [
    "*********************************************************\n",
    "Se realiza el filtro de operadores ineficaces teniendo en cuenta que cumplan con las tres métricas que indican que un operador es ineficaz que son **alto número de llamadas perdidas**, **tiempo de espera prolongado** y **pocas llamadas salientes**, para esto se tuvo en cuenta la totalidad de los datos después de eliminar las filas duplicadas y tratar los valores ausentes, así que se tiene el cálculo de las métricas para cada operador durante los casi 4 meses para los que se recuperaron los datos de los operadores (**2019-08-02 a 2019-11-28**).\n",
    "\n",
    "Para identificar un operador como ineficaz se propusieron unos umbrales de eficacia donde los operadores que estén por encima del **percentil 95** para las llamadas perdidas (donde hasta el 95% de los operadores tienen 5 llamadas perdidas o menos en los casi 4 meses), los operadores que estén por encima del **percentil 85** para tiempo de espera (donde hasta el 85% de los operadores tienen 39 minutos de espera o menos en los casi 4 meses) y los operadores que estén por debajo del **percentil 60** para las llamadas salientes (donde hasta el 60% de los operadores tienen 196 llamadas salientes o menos en los casi 4 meses), serían considerados como operadores ineficaces.\n",
    "\n",
    "Se obtuvo una lista de operadores ineficaces bastante reducida donde el mínimo de llamadas perdidas es de 6 y el máximo de 16, el mínimo de tiempo de espera son 85 minutos y el máximo es 636 minutos y el mínimo de llamadas salientes es 1 y el máximo son 187 llamadas salientes.\n",
    "\n",
    "Es una lista bastante reducida, y se está teniendo en cuenta que el operador cumpla con la ineficacia en las 3 métricas, se podría hacer un análisis más minucioso donde, verifiquemos que métrica es más importante para tenerla más en cuenta y cual es menos importante o separar los operadores que deben hacer llamadas salientes según su cargo y cuales no para analizarlos en grupos separados, pero para esto tendríamos que tener un poco más clara la información de cuál es la función principal del operador para saber si entre sus obligaciones esta hacer llamadas salientes o no, para así poder clasificarlos y separarlos de una mejor manera.\n",
    "\n",
    "Se deja como recomendación incluir la función principal del operador en la base de datos para hacer un análisis más minucioso con respecto a las llamadas salientes que realizan los operadores y así poder identificar si está siendo ineficaz al tener bajas llamadas salientes o si es normal que no tenga llamadas salientes o tenga pocas."
   ]
  },
  {
   "cell_type": "code",
   "execution_count": 67,
   "metadata": {},
   "outputs": [
    {
     "data": {
      "text/plain": [
       "count    7401.000000\n",
       "mean        1.120761\n",
       "std        15.813978\n",
       "min         0.000000\n",
       "25%         0.000000\n",
       "50%         0.000000\n",
       "75%         0.000000\n",
       "max       436.250000\n",
       "Name: call_duration, dtype: float64"
      ]
     },
     "execution_count": 67,
     "metadata": {},
     "output_type": "execute_result"
    }
   ],
   "source": [
    "# Duracion de las llamadas en operadores desconocidos\n",
    "datos[datos['operator_id'] == 'unknown']['call_duration'].describe()"
   ]
  },
  {
   "cell_type": "markdown",
   "metadata": {},
   "source": [
    "***********************************************************\n",
    "\n",
    "Algo que se pudo observar en los datos es que hay una gran cantidad de operadores sin identificador, con la información que tenemos en la base de datos no podríamos decir por qué están sin identificador, puede ser algún error en la recolección de datos, aparentemente según la duración de las llamadas para estos operadores, que se tomaron como desconocidos, las llamadas que reciben no son tan relevantes ya que en promedio duran 1 minuto y hasta el 75% de estos operadores desconocidos cuentan con 0 minutos en la duración de las llamadas.\n",
    "\n",
    "Se recomienda de igual manera que verifiquen porque estos operadores no tienen identificador o identificarlos de alguna forma según el propósito de estos operadores.\n"
   ]
  },
  {
   "attachments": {},
   "cell_type": "markdown",
   "metadata": {},
   "source": [
    "# Probar hipótesis estadísticas\n",
    "\n",
    "Se realizarán las pruebas de hipótesis para validar si las diferencias en las métricas de los operadores ineficaces y operadores eficaces son estadísticamente significativas.\n",
    "\n",
    "Primero con la prueba de levene se verificará primero si las varianzas entre los dos grupos son iguales o no y la prueba de Shapiro-Wilk para verificar si la distribución de las métricas es normal, para así determinar qué tipo de prueba se va a utilizar en cada una de las métricas."
   ]
  },
  {
   "cell_type": "markdown",
   "metadata": {},
   "source": [
    "## Pruebas de levene para verificar igualdad de las varianzas entre las metricas de cada grupo\n",
    "\n",
    "**Hipotesis nula:** No hay diferencia significativa entre las varianzas.\n",
    "\n",
    "**Hipotesis alterna:** Las varianzas son sigificativamente diferentes.\n",
    "\n",
    "**Nivel de significancia:** alpha = 0.05"
   ]
  },
  {
   "cell_type": "code",
   "execution_count": 68,
   "metadata": {},
   "outputs": [],
   "source": [
    "alpha = 0.05"
   ]
  },
  {
   "cell_type": "code",
   "execution_count": 69,
   "metadata": {},
   "outputs": [],
   "source": [
    "# Probar la igualdad de las varianzas en count_missed_calls"
   ]
  },
  {
   "cell_type": "code",
   "execution_count": 70,
   "metadata": {},
   "outputs": [],
   "source": [
    "grupo1 = oper_ineficaces['count_missed_calls']\n",
    "grupo2 = oper_eficaces['count_missed_calls']"
   ]
  },
  {
   "cell_type": "code",
   "execution_count": 71,
   "metadata": {},
   "outputs": [],
   "source": [
    "stat, p_value = stats.levene(grupo1, grupo2)"
   ]
  },
  {
   "cell_type": "code",
   "execution_count": 72,
   "metadata": {},
   "outputs": [
    {
     "name": "stdout",
     "output_type": "stream",
     "text": [
      "Estadístico=38.2118, p-valor=0.0000\n"
     ]
    }
   ],
   "source": [
    "print(f\"Estadístico={stat:.4f}, p-valor={p_value:.4f}\")"
   ]
  },
  {
   "cell_type": "code",
   "execution_count": 73,
   "metadata": {},
   "outputs": [
    {
     "name": "stdout",
     "output_type": "stream",
     "text": [
      "\n",
      "Las varianzas son significativamente diferentes (se rechaza la hipótesis nula).\n"
     ]
    }
   ],
   "source": [
    "if p_value > alpha:\n",
    "    print(\"\\nLas varianzas son similares (no se rechaza la hipótesis nula).\")\n",
    "else:\n",
    "    print(\"\\nLas varianzas son significativamente diferentes (se rechaza la hipótesis nula).\")"
   ]
  },
  {
   "cell_type": "code",
   "execution_count": 74,
   "metadata": {},
   "outputs": [],
   "source": [
    "# Probar la igualdad de las varianzas en waiting_time"
   ]
  },
  {
   "cell_type": "code",
   "execution_count": 75,
   "metadata": {},
   "outputs": [],
   "source": [
    "grupo3 = oper_ineficaces['waiting_time']\n",
    "grupo4 = oper_eficaces['waiting_time']"
   ]
  },
  {
   "cell_type": "code",
   "execution_count": 76,
   "metadata": {},
   "outputs": [],
   "source": [
    "stat, p_value = stats.levene(grupo3, grupo4)"
   ]
  },
  {
   "cell_type": "code",
   "execution_count": 77,
   "metadata": {},
   "outputs": [
    {
     "name": "stdout",
     "output_type": "stream",
     "text": [
      "Estadístico=28.4767, p-valor=0.0000\n"
     ]
    }
   ],
   "source": [
    "print(f\"Estadístico={stat:.4f}, p-valor={p_value:.4f}\")"
   ]
  },
  {
   "cell_type": "code",
   "execution_count": 78,
   "metadata": {},
   "outputs": [
    {
     "name": "stdout",
     "output_type": "stream",
     "text": [
      "\n",
      "Las varianzas son significativamente diferentes (se rechaza la hipótesis nula).\n"
     ]
    }
   ],
   "source": [
    "if p_value > alpha:\n",
    "    print(\"\\nLas varianzas son similares (no se rechaza la hipótesis nula).\")\n",
    "else:\n",
    "    print(\"\\nLas varianzas son significativamente diferentes (se rechaza la hipótesis nula).\")"
   ]
  },
  {
   "cell_type": "code",
   "execution_count": 79,
   "metadata": {},
   "outputs": [],
   "source": [
    "# Probar la igualdad de las varianzas en count_out_calls"
   ]
  },
  {
   "cell_type": "code",
   "execution_count": 80,
   "metadata": {},
   "outputs": [],
   "source": [
    "grupo5 = oper_ineficaces['count_out_calls']\n",
    "grupo6 = oper_eficaces['count_out_calls']"
   ]
  },
  {
   "cell_type": "code",
   "execution_count": 81,
   "metadata": {},
   "outputs": [],
   "source": [
    "stat, p_value = stats.levene(grupo5, grupo6)"
   ]
  },
  {
   "cell_type": "code",
   "execution_count": 82,
   "metadata": {},
   "outputs": [
    {
     "name": "stdout",
     "output_type": "stream",
     "text": [
      "Estadístico=2.8754, p-valor=0.0922\n"
     ]
    }
   ],
   "source": [
    "print(f\"Estadístico={stat:.4f}, p-valor={p_value:.4f}\")"
   ]
  },
  {
   "cell_type": "code",
   "execution_count": 83,
   "metadata": {},
   "outputs": [
    {
     "name": "stdout",
     "output_type": "stream",
     "text": [
      "\n",
      "Las varianzas son similares (no se rechaza la hipótesis nula).\n"
     ]
    }
   ],
   "source": [
    "if p_value > alpha:\n",
    "    print(\"\\nLas varianzas son similares (no se rechaza la hipótesis nula).\")\n",
    "else:\n",
    "    print(\"\\nLas varianzas son significativamente diferentes (se rechaza la hipótesis nula).\")"
   ]
  },
  {
   "cell_type": "markdown",
   "metadata": {},
   "source": [
    "## Verificar si las distribucion de los datos es normal prueba Shapiro-Wilk\n",
    "\n",
    "**Hipotesis nula:** Los datos siguen una distribucion normal.\n",
    "\n",
    "**Hipotesis alterna:** Los datos no siguen una distribución normal.\n",
    "\n",
    "**Nivel de significancia:** alpha = 0.05"
   ]
  },
  {
   "cell_type": "code",
   "execution_count": 84,
   "metadata": {},
   "outputs": [
    {
     "name": "stdout",
     "output_type": "stream",
     "text": [
      "\n",
      "Datos uniformes: Estadístico=0.948, p-valor=0.639\n",
      "No se rechaza la H₀: Los datos parecen seguir una distribución normal.\n"
     ]
    }
   ],
   "source": [
    "# Probar normalidad en count_missed_calls operadores ineficientes\n",
    "stat_s, p_valor = stats.shapiro(grupo1)\n",
    "\n",
    "print(f\"\\nDatos uniformes: Estadístico={stat_s:.3f}, p-valor={p_valor:.3f}\")\n",
    "if p_valor > 0.05:\n",
    "    print(\"No se rechaza la H₀: Los datos parecen seguir una distribución normal.\")\n",
    "else:\n",
    "    print(\"Se rechaza la H₀: Los datos no siguen una distribución normal.\")"
   ]
  },
  {
   "cell_type": "code",
   "execution_count": 85,
   "metadata": {},
   "outputs": [
    {
     "name": "stdout",
     "output_type": "stream",
     "text": [
      "\n",
      "Datos uniformes: Estadístico=0.637, p-valor=0.000\n",
      "Se rechaza la H₀: Los datos no siguen una distribución normal.\n"
     ]
    }
   ],
   "source": [
    "# Probar normalidad en count_missed_calls operadores eficientes\n",
    "stat_s, p_valor = stats.shapiro(grupo2)\n",
    "\n",
    "print(f\"\\nDatos uniformes: Estadístico={stat_s:.3f}, p-valor={p_valor:.3f}\")\n",
    "if p_valor > 0.05:\n",
    "    print(\"No se rechaza la H₀: Los datos parecen seguir una distribución normal.\")\n",
    "else:\n",
    "    print(\"Se rechaza la H₀: Los datos no siguen una distribución normal.\")"
   ]
  },
  {
   "cell_type": "code",
   "execution_count": 86,
   "metadata": {},
   "outputs": [
    {
     "name": "stdout",
     "output_type": "stream",
     "text": [
      "\n",
      "Datos uniformes: Estadístico=0.591, p-valor=0.000\n",
      "Se rechaza la H₀: Los datos no siguen una distribución normal.\n"
     ]
    }
   ],
   "source": [
    "# Probar normalidad en waiting_time operadores ineficientes\n",
    "stat_s, p_valor = stats.shapiro(grupo3)\n",
    "\n",
    "print(f\"\\nDatos uniformes: Estadístico={stat_s:.3f}, p-valor={p_valor:.3f}\")\n",
    "if p_valor > 0.05:\n",
    "    print(\"No se rechaza la H₀: Los datos parecen seguir una distribución normal.\")\n",
    "else:\n",
    "    print(\"Se rechaza la H₀: Los datos no siguen una distribución normal.\")"
   ]
  },
  {
   "cell_type": "code",
   "execution_count": 87,
   "metadata": {},
   "outputs": [
    {
     "name": "stdout",
     "output_type": "stream",
     "text": [
      "\n",
      "Datos uniformes: Estadístico=0.856, p-valor=0.000\n",
      "Se rechaza la H₀: Los datos no siguen una distribución normal.\n"
     ]
    }
   ],
   "source": [
    "# Probar normalidad en waiting_time operadores eficientes\n",
    "stat_s, p_valor = stats.shapiro(grupo4)\n",
    "\n",
    "print(f\"\\nDatos uniformes: Estadístico={stat_s:.3f}, p-valor={p_valor:.3f}\")\n",
    "if p_valor > 0.05:\n",
    "    print(\"No se rechaza la H₀: Los datos parecen seguir una distribución normal.\")\n",
    "else:\n",
    "    print(\"Se rechaza la H₀: Los datos no siguen una distribución normal.\")"
   ]
  },
  {
   "cell_type": "code",
   "execution_count": 88,
   "metadata": {},
   "outputs": [
    {
     "name": "stdout",
     "output_type": "stream",
     "text": [
      "\n",
      "Datos uniformes: Estadístico=0.918, p-valor=0.339\n",
      "No se rechaza la H₀: Los datos parecen seguir una distribución normal.\n"
     ]
    }
   ],
   "source": [
    "# Probar normalidad en count_out_calls operadores ineficientes\n",
    "stat_s, p_valor = stats.shapiro(grupo5)\n",
    "\n",
    "print(f\"\\nDatos uniformes: Estadístico={stat_s:.3f}, p-valor={p_valor:.3f}\")\n",
    "if p_valor > 0.05:\n",
    "    print(\"No se rechaza la H₀: Los datos parecen seguir una distribución normal.\")\n",
    "else:\n",
    "    print(\"Se rechaza la H₀: Los datos no siguen una distribución normal.\")"
   ]
  },
  {
   "cell_type": "code",
   "execution_count": 89,
   "metadata": {},
   "outputs": [
    {
     "name": "stdout",
     "output_type": "stream",
     "text": [
      "\n",
      "Datos uniformes: Estadístico=0.612, p-valor=0.000\n",
      "Se rechaza la H₀: Los datos no siguen una distribución normal.\n"
     ]
    }
   ],
   "source": [
    "# Probar normalidad en count_out_calls operadores eficientes\n",
    "stat_s, p_valor = stats.shapiro(grupo6)\n",
    "\n",
    "print(f\"\\nDatos uniformes: Estadístico={stat_s:.3f}, p-valor={p_valor:.3f}\")\n",
    "if p_valor > 0.05:\n",
    "    print(\"No se rechaza la H₀: Los datos parecen seguir una distribución normal.\")\n",
    "else:\n",
    "    print(\"Se rechaza la H₀: Los datos no siguen una distribución normal.\")"
   ]
  },
  {
   "cell_type": "markdown",
   "metadata": {},
   "source": [
    "## Pruebas de hipótesis para validar diferencias en las métricas entre  operadores ineficaces y operadores eficaces"
   ]
  },
  {
   "cell_type": "markdown",
   "metadata": {},
   "source": [
    "Como podemos observar las varianzas de nuestras métricas **count_missed_calls** y **waiting_time** no son iguales y además, todas nuestras variables o métricas parecen no tener una distribución normal, así que se va a utilizar la prueba **U de Mann-Whitney** para probar si hay diferencias estadísticamente significativas entre las métricas para los operadores eficaces y los operadores ineficaces, ya que la prueba **U de Mann-Whitney** no asume condiciones específicas sobre la distribución ni la varianza de las muestras."
   ]
  },
  {
   "cell_type": "markdown",
   "metadata": {},
   "source": [
    "### Pruebas de hipótesis estadistica para count_missed_calls \n",
    "\n",
    "\n",
    "**Hipotesis nula:** No hay diferencia estadisticamente significativa en las llamadas perdidas entre los dos grupos.\n",
    "\n",
    "**Hipotesis alterna:** Hay diferencia estadisticamente significativa en las llamadas perdidas entre los dos grupos.\n",
    "\n",
    "**Nivel de significancia:** alpha = 0.05\n"
   ]
  },
  {
   "cell_type": "code",
   "execution_count": 90,
   "metadata": {},
   "outputs": [],
   "source": [
    "grupo_efic_1 = oper_eficaces['count_missed_calls']\n",
    "grupo_inefic_1 = oper_ineficaces['count_missed_calls']"
   ]
  },
  {
   "cell_type": "code",
   "execution_count": 91,
   "metadata": {},
   "outputs": [],
   "source": [
    "estadistico, valor_p = stats.mannwhitneyu(grupo_efic_1, grupo_inefic_1, alternative='two-sided')"
   ]
  },
  {
   "cell_type": "code",
   "execution_count": 92,
   "metadata": {},
   "outputs": [
    {
     "name": "stdout",
     "output_type": "stream",
     "text": [
      "Estadístico=0.0000, p-valor=0.0000\n"
     ]
    }
   ],
   "source": [
    "print(f\"Estadístico={estadistico:.4f}, p-valor={valor_p:.4f}\")"
   ]
  },
  {
   "cell_type": "code",
   "execution_count": 93,
   "metadata": {},
   "outputs": [
    {
     "name": "stdout",
     "output_type": "stream",
     "text": [
      "\n",
      "Hay una diferencia estadisticamente significativa en las llamadas perdidas entre los dos grupos. (se rechaza la hipótesis nula).\n"
     ]
    }
   ],
   "source": [
    "if valor_p > alpha:\n",
    "    print(\"\\nNo hay una diferencia estadisticamente significativa en las llamadas perdidas entre los dos grupos. (no se rechaza la hipótesis nula).\")\n",
    "else:\n",
    "    print(\"\\nHay una diferencia estadisticamente significativa en las llamadas perdidas entre los dos grupos. (se rechaza la hipótesis nula).\")"
   ]
  },
  {
   "cell_type": "markdown",
   "metadata": {},
   "source": [
    "### Pruebas de hipótesis estadistica para waiting_time\n",
    "\n",
    "**Hipotesis nula:** No hay diferencia estadisticamente significativa en el tiempo de espera entre los dos grupos.\n",
    "\n",
    "**Hipotesis alterna:** Hay diferencia estadisticamente significativa en el tiempo de espera entre los dos grupos.\n",
    "\n",
    "**Nivel de significancia:** alpha = 0.05"
   ]
  },
  {
   "cell_type": "code",
   "execution_count": 94,
   "metadata": {},
   "outputs": [],
   "source": [
    "grupo_efic_2 = oper_eficaces['waiting_time']\n",
    "grupo_inefic_2 = oper_ineficaces['waiting_time']"
   ]
  },
  {
   "cell_type": "code",
   "execution_count": 95,
   "metadata": {},
   "outputs": [],
   "source": [
    "estadistico, valor_p = stats.mannwhitneyu(grupo_efic_2, grupo_inefic_2, alternative='two-sided')"
   ]
  },
  {
   "cell_type": "code",
   "execution_count": 96,
   "metadata": {},
   "outputs": [
    {
     "name": "stdout",
     "output_type": "stream",
     "text": [
      "Estadístico=0.0000, p-valor=0.0000\n"
     ]
    }
   ],
   "source": [
    "print(f\"Estadístico={estadistico:.4f}, p-valor={valor_p:.4f}\")"
   ]
  },
  {
   "cell_type": "code",
   "execution_count": 97,
   "metadata": {},
   "outputs": [
    {
     "name": "stdout",
     "output_type": "stream",
     "text": [
      "\n",
      "Hay una diferencia estadisticamente significativa en el tiempo de espera entre los dos grupos. (se rechaza la hipótesis nula).\n"
     ]
    }
   ],
   "source": [
    "if valor_p > alpha:\n",
    "    print(\"\\nNo hay una diferencia estadisticamente significativa en el tiempo de espera entre los dos grupos. (no se rechaza la hipótesis nula).\")\n",
    "else:\n",
    "    print(\"\\nHay una diferencia estadisticamente significativa en el tiempo de espera entre los dos grupos. (se rechaza la hipótesis nula).\")"
   ]
  },
  {
   "cell_type": "markdown",
   "metadata": {},
   "source": [
    "### Pruebas de hipótesis estadistica para count_out_calls\n",
    "\n",
    "**Hipotesis nula:** No hay diferencia estadisticamente significativa en las llamadas salientes entre los dos grupos.\n",
    "\n",
    "**Hipotesis alterna:** Hay diferencia estadisticamente significativa en las llamadas salientes entre los dos grupos.\n",
    "\n",
    "**Nivel de significancia:** alpha = 0.05"
   ]
  },
  {
   "cell_type": "code",
   "execution_count": 98,
   "metadata": {},
   "outputs": [],
   "source": [
    "grupo_efic_3 = oper_eficaces['count_out_calls']\n",
    "grupo_inefic_3 = oper_ineficaces['count_out_calls']"
   ]
  },
  {
   "cell_type": "code",
   "execution_count": 99,
   "metadata": {},
   "outputs": [],
   "source": [
    "estadistico, valor_p = stats.mannwhitneyu(grupo_efic_3, grupo_inefic_3, alternative='two-sided')"
   ]
  },
  {
   "cell_type": "code",
   "execution_count": 100,
   "metadata": {},
   "outputs": [
    {
     "name": "stdout",
     "output_type": "stream",
     "text": [
      "Estadístico=1330.0000, p-valor=0.0000\n"
     ]
    }
   ],
   "source": [
    "print(f\"Estadístico={estadistico:.4f}, p-valor={valor_p:.4f}\")"
   ]
  },
  {
   "cell_type": "code",
   "execution_count": 101,
   "metadata": {},
   "outputs": [
    {
     "name": "stdout",
     "output_type": "stream",
     "text": [
      "\n",
      "Hay una diferencia estadisticamente significativa en las llamadas salientes entre los dos grupos. (se rechaza la hipótesis nula).\n"
     ]
    }
   ],
   "source": [
    "if valor_p > alpha:\n",
    "    print(\"\\nNo hay una diferencia estadisticamente significativa en las llamadas salientes entre los dos grupos. (no se rechaza la hipótesis nula).\")\n",
    "else:\n",
    "    print(\"\\nHay una diferencia estadisticamente significativa en las llamadas salientes entre los dos grupos. (se rechaza la hipótesis nula).\")"
   ]
  },
  {
   "cell_type": "markdown",
   "metadata": {},
   "source": [
    "***********************************************\n",
    "Después de realizar las pruebas de hipótesis se confirma que **hay una diferencia estadísticamente significativa** entre el grupo de **operadores eficaces** y el grupo de **operadores ineficaces** en todas sus métricas, lo que indica que se identificaron bien los operadores ineficaces, podría haber más operadores ineficaces según como se analicen las métricas, si se tiene en cuenta por un lado solo los operarios que tengan un alto número de llamadas perdidas y un alto tiempo de espera podría haber más operadores ineficaces y se podría analizar el bajo número de llamadas salientes por aparte según la función del operador."
   ]
  },
  {
   "cell_type": "markdown",
   "metadata": {},
   "source": [
    "# Fuentes de informacion"
   ]
  },
  {
   "cell_type": "markdown",
   "metadata": {},
   "source": [
    "1.\tGuía para saber cómo citar las fuentes de información.\n",
    "\n",
    "UNIVERSIDAD DE SAN ISIDRO, USI. (2019). Guía APA: cómo citar fuentes de información. Recuperado de https://www.usi.edu.ar/wp-content/uploads/2019/04/Gu%C3%ADa-APA-Biblioteca-USI.pdf\n",
    "\n",
    "2.\t¿Que debe contener el análisis exploratorio de datos?\n",
    "  \n",
    "Arroyo, Marta Arroyo. El análisis exploratorio de datos definitivo (EDA) en Python. Recuperado de https://datos.ninja/tutorial/el-analisis-exploratorio-de-datos-definitivo-eda-en-python/\n",
    "\n",
    "3.\t¿Diferencia entre pre procesamiento de datos y análisis exploratorio de datos?\n",
    "  \n",
    "Shalom, Kathula Shalom (2024). Preprocesamiento de datos y análisis exploratorio de datos en Python. Recuperado de https://medium.com/@kathulashalom123/data-preprocessing-and-exploratory-data-analysis-in-python-f2f431944bce\n",
    "\n",
    "4.\t¿Cómo tratar los valores ausentes?\n",
    "  \n",
    "Narang, Mohita Narang (2023). Las 4 técnicas principales para gestionar valores faltantes en el aprendizaje automático. Recuperado de https://blog.paperspace.com/top-4-techniques-for-handling-the-missing-values-in-machine-learning/\n",
    "\n",
    "5.\t¿KPIs importantes para medir la eficiencia en los call center?\n",
    "\n",
    "\n",
    "Covisian, covisian (2024). Descubre los principales KPIs para tu contact center. Recuperado de https://covisian.com/es/tech-post/mejorar-eficiencia-contact-center-gracias-a-medicion-kpi/\n",
    "\n",
    "Zendesk, zendesk. Las 5 métricas operativas de un call center que debes medir. Recuperado de https://www.zendesk.com.mx/blog/call-center-metricas-operativas/\n",
    "\n",
    "6.\t¿Cuál es el tiempo de espera normal en un call center?\n",
    "Sqmgroup, sqmgroup (2023). ¿Cuál es un tiempo de espera promedio aceptable para el servicio al cliente? Recuperado de https://www.sqmgroup.com/resources/library/blog/acceptable-average-wait-time-customer-service\n"
   ]
  }
 ],
 "metadata": {
  "kernelspec": {
   "display_name": "Python 3 (ipykernel)",
   "language": "python",
   "name": "python3"
  },
  "language_info": {
   "codemirror_mode": {
    "name": "ipython",
    "version": 3
   },
   "file_extension": ".py",
   "mimetype": "text/x-python",
   "name": "python",
   "nbconvert_exporter": "python",
   "pygments_lexer": "ipython3",
   "version": "3.9.23"
  }
 },
 "nbformat": 4,
 "nbformat_minor": 4
}
